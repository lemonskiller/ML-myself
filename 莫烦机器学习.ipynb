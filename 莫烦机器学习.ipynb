{
 "cells": [
  {
   "cell_type": "markdown",
   "metadata": {},
   "source": [
    "### 莫烦 sklearn"
   ]
  },
  {
   "cell_type": "code",
   "execution_count": 2,
   "metadata": {},
   "outputs": [],
   "source": [
    "import numpy as np\n",
    "from sklearn import datasets\n",
    "#from sklearn.cross_validation import train_test_split\n",
    "from sklearn.model_selection import train_test_split\n",
    "from sklearn.neighbors import KNeighborsClassifier"
   ]
  },
  {
   "cell_type": "code",
   "execution_count": 3,
   "metadata": {},
   "outputs": [],
   "source": [
    "iris = datasets.load_iris()\n",
    "iris_X = iris.data\n",
    "iris_y = iris.target"
   ]
  },
  {
   "cell_type": "code",
   "execution_count": 7,
   "metadata": {},
   "outputs": [
    {
     "data": {
      "text/plain": [
       "(150, 4)"
      ]
     },
     "execution_count": 7,
     "metadata": {},
     "output_type": "execute_result"
    }
   ],
   "source": [
    "np.shape(iris_X)"
   ]
  },
  {
   "cell_type": "code",
   "execution_count": 8,
   "metadata": {},
   "outputs": [
    {
     "data": {
      "text/plain": [
       "array([[5.1, 3.5, 1.4, 0.2],\n",
       "       [4.9, 3. , 1.4, 0.2]])"
      ]
     },
     "execution_count": 8,
     "metadata": {},
     "output_type": "execute_result"
    }
   ],
   "source": [
    "iris_X[:2,:]"
   ]
  },
  {
   "cell_type": "code",
   "execution_count": 9,
   "metadata": {},
   "outputs": [
    {
     "data": {
      "text/plain": [
       "(150,)"
      ]
     },
     "execution_count": 9,
     "metadata": {},
     "output_type": "execute_result"
    }
   ],
   "source": [
    "np.shape(iris_y)"
   ]
  },
  {
   "cell_type": "code",
   "execution_count": 11,
   "metadata": {},
   "outputs": [
    {
     "data": {
      "text/plain": [
       "array([0, 0])"
      ]
     },
     "execution_count": 11,
     "metadata": {},
     "output_type": "execute_result"
    }
   ],
   "source": [
    "iris_y[:2]"
   ]
  },
  {
   "cell_type": "code",
   "execution_count": 12,
   "metadata": {},
   "outputs": [],
   "source": [
    "X_train, X_test, y_train, y_test = train_test_split(iris_X, iris_y, test_size=0.3)"
   ]
  },
  {
   "cell_type": "code",
   "execution_count": 14,
   "metadata": {},
   "outputs": [
    {
     "data": {
      "text/plain": [
       "array([1, 2, 1, 0, 0, 2, 2, 2, 2, 2, 0, 2, 0, 1, 2, 2, 0, 0, 0, 2, 2, 2,\n",
       "       0, 1, 1, 1, 2, 1, 2, 1, 1, 0, 1, 1, 0, 1, 0, 2, 0, 0, 0, 1, 0, 1,\n",
       "       0, 1, 2, 2, 0, 0, 0, 2, 0, 1, 0, 1, 0, 2, 2, 2, 2, 2, 2, 0, 1, 2,\n",
       "       1, 1, 1, 0, 2, 2, 2, 0, 2, 1, 1, 0, 1, 1, 2, 0, 2, 2, 0, 1, 1, 0,\n",
       "       2, 1, 1, 0, 2, 2, 1, 1, 1, 0, 1, 1, 0, 1, 2, 1, 0])"
      ]
     },
     "execution_count": 14,
     "metadata": {},
     "output_type": "execute_result"
    }
   ],
   "source": [
    "y_train #是打乱的"
   ]
  },
  {
   "cell_type": "code",
   "execution_count": 15,
   "metadata": {},
   "outputs": [
    {
     "data": {
      "text/plain": [
       "(105,)"
      ]
     },
     "execution_count": 15,
     "metadata": {},
     "output_type": "execute_result"
    }
   ],
   "source": [
    "np.shape(y_train) # 150*0.7=105"
   ]
  },
  {
   "cell_type": "markdown",
   "metadata": {},
   "source": [
    "#### KNN分类"
   ]
  },
  {
   "cell_type": "code",
   "execution_count": 17,
   "metadata": {},
   "outputs": [
    {
     "data": {
      "text/plain": [
       "KNeighborsClassifier(algorithm='auto', leaf_size=30, metric='minkowski',\n",
       "                     metric_params=None, n_jobs=None, n_neighbors=5, p=2,\n",
       "                     weights='uniform')"
      ]
     },
     "execution_count": 17,
     "metadata": {},
     "output_type": "execute_result"
    }
   ],
   "source": [
    "knn = KNeighborsClassifier()\n",
    "knn"
   ]
  },
  {
   "cell_type": "code",
   "execution_count": 18,
   "metadata": {},
   "outputs": [
    {
     "data": {
      "text/plain": [
       "KNeighborsClassifier(algorithm='auto', leaf_size=30, metric='minkowski',\n",
       "                     metric_params=None, n_jobs=None, n_neighbors=5, p=2,\n",
       "                     weights='uniform')"
      ]
     },
     "execution_count": 18,
     "metadata": {},
     "output_type": "execute_result"
    }
   ],
   "source": [
    "knn.fit(X_train, y_train)"
   ]
  },
  {
   "cell_type": "code",
   "execution_count": 19,
   "metadata": {},
   "outputs": [
    {
     "data": {
      "text/plain": [
       "array([2, 1, 0, 1, 1, 0, 1, 0, 1, 1, 1, 0, 2, 2, 1, 2, 2, 0, 2, 1, 0, 1,\n",
       "       0, 2, 2, 0, 0, 0, 2, 1, 0, 0, 2, 0, 1, 0, 1, 0, 2, 0, 1, 2, 0, 2,\n",
       "       2])"
      ]
     },
     "execution_count": 19,
     "metadata": {},
     "output_type": "execute_result"
    }
   ],
   "source": [
    "knn.predict(X_test)"
   ]
  },
  {
   "cell_type": "code",
   "execution_count": 20,
   "metadata": {},
   "outputs": [
    {
     "data": {
      "text/plain": [
       "array([2, 1, 0, 1, 1, 0, 1, 0, 1, 1, 1, 0, 2, 2, 1, 2, 2, 0, 2, 1, 0, 1,\n",
       "       0, 2, 2, 0, 0, 0, 2, 1, 0, 0, 2, 0, 1, 0, 1, 0, 2, 0, 1, 2, 0, 2,\n",
       "       2])"
      ]
     },
     "execution_count": 20,
     "metadata": {},
     "output_type": "execute_result"
    }
   ],
   "source": [
    "y_test"
   ]
  },
  {
   "cell_type": "code",
   "execution_count": 21,
   "metadata": {},
   "outputs": [
    {
     "name": "stdout",
     "output_type": "stream",
     "text": [
      "1.0\n"
     ]
    }
   ],
   "source": [
    "print(np.sum(knn.predict(X_test)==y_test)/y_test.size) #直接统计准确率"
   ]
  },
  {
   "cell_type": "markdown",
   "metadata": {},
   "source": [
    "## 数据库的使用\n",
    "## 波士顿房价--线性回归"
   ]
  },
  {
   "cell_type": "code",
   "execution_count": 22,
   "metadata": {},
   "outputs": [],
   "source": [
    "from sklearn import datasets\n",
    "from sklearn.linear_model import LinearRegression"
   ]
  },
  {
   "cell_type": "code",
   "execution_count": 23,
   "metadata": {},
   "outputs": [],
   "source": [
    "loaded_data = datasets.load_boston()\n",
    "data_X = loaded_data.data\n",
    "data_y = loaded_data.target"
   ]
  },
  {
   "cell_type": "code",
   "execution_count": 25,
   "metadata": {},
   "outputs": [
    {
     "data": {
      "text/plain": [
       "((506, 13), (506,))"
      ]
     },
     "execution_count": 25,
     "metadata": {},
     "output_type": "execute_result"
    }
   ],
   "source": [
    "np.shape(data_X),np.shape(data_y)"
   ]
  },
  {
   "cell_type": "code",
   "execution_count": 27,
   "metadata": {},
   "outputs": [
    {
     "data": {
      "text/plain": [
       "LinearRegression(copy_X=True, fit_intercept=True, n_jobs=None, normalize=False)"
      ]
     },
     "execution_count": 27,
     "metadata": {},
     "output_type": "execute_result"
    }
   ],
   "source": [
    "model = LinearRegression()\n",
    "model"
   ]
  },
  {
   "cell_type": "code",
   "execution_count": 28,
   "metadata": {},
   "outputs": [
    {
     "data": {
      "text/plain": [
       "LinearRegression(copy_X=True, fit_intercept=True, n_jobs=None, normalize=False)"
      ]
     },
     "execution_count": 28,
     "metadata": {},
     "output_type": "execute_result"
    }
   ],
   "source": [
    "model.fit(data_X, data_y)"
   ]
  },
  {
   "cell_type": "code",
   "execution_count": 29,
   "metadata": {},
   "outputs": [
    {
     "data": {
      "text/plain": [
       "array([30.00384338, 25.02556238, 30.56759672, 28.60703649])"
      ]
     },
     "execution_count": 29,
     "metadata": {},
     "output_type": "execute_result"
    }
   ],
   "source": [
    "#用前4个值预测\n",
    "model.predict(data_X[:4,:])"
   ]
  },
  {
   "cell_type": "code",
   "execution_count": 30,
   "metadata": {},
   "outputs": [
    {
     "data": {
      "text/plain": [
       "array([24. , 21.6, 34.7, 33.4])"
      ]
     },
     "execution_count": 30,
     "metadata": {},
     "output_type": "execute_result"
    }
   ],
   "source": [
    "data_y[:4]"
   ]
  },
  {
   "cell_type": "markdown",
   "metadata": {},
   "source": [
    "### 创造数据"
   ]
  },
  {
   "cell_type": "code",
   "execution_count": 32,
   "metadata": {},
   "outputs": [],
   "source": [
    "import matplotlib.pyplot as plt"
   ]
  },
  {
   "cell_type": "code",
   "execution_count": 33,
   "metadata": {},
   "outputs": [],
   "source": [
    "%matplotlib inline"
   ]
  },
  {
   "cell_type": "markdown",
   "metadata": {},
   "source": [
    "#### 100样本，1个特征，1个"
   ]
  },
  {
   "cell_type": "code",
   "execution_count": 35,
   "metadata": {},
   "outputs": [],
   "source": [
    "X, y = datasets.make_regression(n_samples=100, n_features=1, n_targets=1, noise=10)"
   ]
  },
  {
   "cell_type": "code",
   "execution_count": 36,
   "metadata": {},
   "outputs": [
    {
     "data": {
      "text/plain": [
       "<matplotlib.collections.PathCollection at 0x255e612c860>"
      ]
     },
     "execution_count": 36,
     "metadata": {},
     "output_type": "execute_result"
    },
    {
     "data": {
      "image/png": "[encoded data removed]",
      "text/plain": [
       "<Figure size 432x288 with 1 Axes>"
      ]
     },
     "metadata": {
      "needs_background": "light"
     },
     "output_type": "display_data"
    }
   ],
   "source": [
    "plt.scatter(X,y)"
   ]
  },
  {
   "cell_type": "markdown",
   "metadata": {},
   "source": [
    "### model的属性和功能"
   ]
  },
  {
   "cell_type": "code",
   "execution_count": 62,
   "metadata": {},
   "outputs": [
    {
     "data": {
      "text/plain": [
       "array([1, 2, 3, 4, 5, 6, 7, 8, 9])"
      ]
     },
     "execution_count": 62,
     "metadata": {},
     "output_type": "execute_result"
    }
   ],
   "source": [
    "x=np.array(np.arange(1,10,1))\n",
    "x"
   ]
  },
  {
   "cell_type": "code",
   "execution_count": 63,
   "metadata": {},
   "outputs": [
    {
     "data": {
      "text/plain": [
       "array([ 4,  7, 10, 13, 16, 19, 22, 25, 28])"
      ]
     },
     "execution_count": 63,
     "metadata": {},
     "output_type": "execute_result"
    }
   ],
   "source": [
    "y=3*x+1\n",
    "y"
   ]
  },
  {
   "cell_type": "code",
   "execution_count": 64,
   "metadata": {},
   "outputs": [
    {
     "data": {
      "text/plain": [
       "LinearRegression(copy_X=True, fit_intercept=True, n_jobs=None, normalize=False)"
      ]
     },
     "execution_count": 64,
     "metadata": {},
     "output_type": "execute_result"
    }
   ],
   "source": [
    "model = LinearRegression()\n",
    "model"
   ]
  },
  {
   "cell_type": "code",
   "execution_count": 66,
   "metadata": {
    "scrolled": true
   },
   "outputs": [
    {
     "data": {
      "text/plain": [
       "LinearRegression(copy_X=True, fit_intercept=True, n_jobs=None, normalize=False)"
      ]
     },
     "execution_count": 66,
     "metadata": {},
     "output_type": "execute_result"
    }
   ],
   "source": [
    "model.fit(x.reshape(-1,1),y)"
   ]
  },
  {
   "cell_type": "code",
   "execution_count": 67,
   "metadata": {},
   "outputs": [
    {
     "data": {
      "text/plain": [
       "array([3.])"
      ]
     },
     "execution_count": 67,
     "metadata": {},
     "output_type": "execute_result"
    }
   ],
   "source": [
    "model.coef_ #斜率"
   ]
  },
  {
   "cell_type": "code",
   "execution_count": 68,
   "metadata": {},
   "outputs": [
    {
     "data": {
      "text/plain": [
       "0.9999999999999982"
      ]
     },
     "execution_count": 68,
     "metadata": {},
     "output_type": "execute_result"
    }
   ],
   "source": [
    "model.intercept_ #截距"
   ]
  },
  {
   "cell_type": "code",
   "execution_count": 70,
   "metadata": {},
   "outputs": [
    {
     "data": {
      "text/plain": [
       "{'copy_X': True, 'fit_intercept': True, 'n_jobs': None, 'normalize': False}"
      ]
     },
     "execution_count": 70,
     "metadata": {},
     "output_type": "execute_result"
    }
   ],
   "source": [
    "model.get_params() #model的定义参数\n",
    "# n_jobs: 用几个核来运算"
   ]
  },
  {
   "cell_type": "code",
   "execution_count": 80,
   "metadata": {
    "scrolled": true
   },
   "outputs": [
    {
     "data": {
      "text/plain": [
       "1.0"
      ]
     },
     "execution_count": 80,
     "metadata": {},
     "output_type": "execute_result"
    }
   ],
   "source": [
    "model.score(x.reshape(-1,1),y) #线性回归模型中 R^2 coefficient of determination"
   ]
  },
  {
   "cell_type": "code",
   "execution_count": 74,
   "metadata": {},
   "outputs": [
    {
     "data": {
      "text/plain": [
       "array([1, 2, 3, 4, 5, 6, 7, 8, 9])"
      ]
     },
     "execution_count": 74,
     "metadata": {},
     "output_type": "execute_result"
    }
   ],
   "source": [
    "x.T"
   ]
  },
  {
   "cell_type": "code",
   "execution_count": 76,
   "metadata": {},
   "outputs": [
    {
     "data": {
      "text/plain": [
       "array([[1],\n",
       "       [2],\n",
       "       [3],\n",
       "       [4],\n",
       "       [5],\n",
       "       [6],\n",
       "       [7],\n",
       "       [8],\n",
       "       [9]])"
      ]
     },
     "execution_count": 76,
     "metadata": {},
     "output_type": "execute_result"
    }
   ],
   "source": [
    "x.reshape(-1,1)"
   ]
  },
  {
   "cell_type": "code",
   "execution_count": 78,
   "metadata": {},
   "outputs": [
    {
     "data": {
      "text/plain": [
       "numpy.ndarray"
      ]
     },
     "execution_count": 78,
     "metadata": {},
     "output_type": "execute_result"
    }
   ],
   "source": [
    "type(x.reshape(-1,1))"
   ]
  },
  {
   "cell_type": "code",
   "execution_count": 79,
   "metadata": {},
   "outputs": [
    {
     "data": {
      "text/plain": [
       "numpy.ndarray"
      ]
     },
     "execution_count": 79,
     "metadata": {},
     "output_type": "execute_result"
    }
   ],
   "source": [
    "type(x.T)"
   ]
  },
  {
   "cell_type": "markdown",
   "metadata": {},
   "source": [
    "## 归一化"
   ]
  },
  {
   "cell_type": "code",
   "execution_count": 81,
   "metadata": {},
   "outputs": [],
   "source": [
    "from sklearn import preprocessing\n",
    "import numpy as np"
   ]
  },
  {
   "cell_type": "code",
   "execution_count": 82,
   "metadata": {},
   "outputs": [
    {
     "data": {
      "text/plain": [
       "array([[  10. ,    2.7,    3.6],\n",
       "       [-100. ,    5. ,   -2. ],\n",
       "       [ 120. ,   20. ,   40. ]])"
      ]
     },
     "execution_count": 82,
     "metadata": {},
     "output_type": "execute_result"
    }
   ],
   "source": [
    "a = np.array([[10,2.7,3.6],\n",
    "             [-100,5,-2],\n",
    "             [120,20,40]],dtype=np.float64)\n",
    "a"
   ]
  },
  {
   "cell_type": "markdown",
   "metadata": {},
   "source": [
    "#### 标准归一化"
   ]
  },
  {
   "cell_type": "code",
   "execution_count": 83,
   "metadata": {},
   "outputs": [
    {
     "data": {
      "text/plain": [
       "array([[ 0.        , -0.85170713, -0.55138018],\n",
       "       [-1.22474487, -0.55187146, -0.852133  ],\n",
       "       [ 1.22474487,  1.40357859,  1.40351318]])"
      ]
     },
     "execution_count": 83,
     "metadata": {},
     "output_type": "execute_result"
    }
   ],
   "source": [
    "preprocessing.scale(a) # z-score归一化"
   ]
  },
  {
   "cell_type": "code",
   "execution_count": 87,
   "metadata": {},
   "outputs": [
    {
     "data": {
      "text/plain": [
       "0.0"
      ]
     },
     "execution_count": 87,
     "metadata": {},
     "output_type": "execute_result"
    }
   ],
   "source": [
    "np.mean(preprocessing.scale(a)[:,0])"
   ]
  },
  {
   "cell_type": "code",
   "execution_count": 88,
   "metadata": {},
   "outputs": [
    {
     "data": {
      "text/plain": [
       "1.4802973661668753e-16"
      ]
     },
     "execution_count": 88,
     "metadata": {},
     "output_type": "execute_result"
    }
   ],
   "source": [
    "np.mean(preprocessing.scale(a)[:,1])"
   ]
  },
  {
   "cell_type": "code",
   "execution_count": 89,
   "metadata": {},
   "outputs": [
    {
     "data": {
      "text/plain": [
       "0.0"
      ]
     },
     "execution_count": 89,
     "metadata": {},
     "output_type": "execute_result"
    }
   ],
   "source": [
    "np.mean(preprocessing.scale(a)[:,2])"
   ]
  },
  {
   "cell_type": "code",
   "execution_count": 90,
   "metadata": {},
   "outputs": [
    {
     "data": {
      "text/plain": [
       "1.0000000000000002"
      ]
     },
     "execution_count": 90,
     "metadata": {},
     "output_type": "execute_result"
    }
   ],
   "source": [
    "np.var(preprocessing.scale(a)[:,0])"
   ]
  },
  {
   "cell_type": "code",
   "execution_count": 91,
   "metadata": {},
   "outputs": [
    {
     "data": {
      "text/plain": [
       "1.0"
      ]
     },
     "execution_count": 91,
     "metadata": {},
     "output_type": "execute_result"
    }
   ],
   "source": [
    "np.var(preprocessing.scale(a)[:,1])"
   ]
  },
  {
   "cell_type": "code",
   "execution_count": 92,
   "metadata": {},
   "outputs": [
    {
     "data": {
      "text/plain": [
       "1.0000000000000002"
      ]
     },
     "execution_count": 92,
     "metadata": {},
     "output_type": "execute_result"
    }
   ],
   "source": [
    "np.var(preprocessing.scale(a)[:,2])"
   ]
  },
  {
   "cell_type": "markdown",
   "metadata": {},
   "source": [
    "#### SVC"
   ]
  },
  {
   "cell_type": "code",
   "execution_count": 94,
   "metadata": {},
   "outputs": [],
   "source": [
    "from sklearn import preprocessing\n",
    "import numpy as np\n",
    "#from sklearn.cross_validation import train_test_split\n",
    "from sklearn.model_selection import train_test_split\n",
    "from sklearn.datasets.samples_generator import make_classification\n",
    "from sklearn.svm import SVC\n",
    "import matplotlib.pyplot as plt"
   ]
  },
  {
   "cell_type": "markdown",
   "metadata": {},
   "source": [
    "#### 生成数据"
   ]
  },
  {
   "cell_type": "code",
   "execution_count": 102,
   "metadata": {
    "scrolled": true
   },
   "outputs": [
    {
     "data": {
      "text/plain": [
       "(array([[ 2.70291644e+02,  6.61960634e+01],\n",
       "        [-1.14084935e+02,  2.08200955e+02],\n",
       "        [ 1.38261970e+02,  9.79644473e+01],\n",
       "        [ 8.21203452e+01,  1.28324302e+02],\n",
       "        [-6.70488205e+01,  1.75784878e+02],\n",
       "        [-6.47279575e+01,  1.29540413e+02],\n",
       "        [-1.60748166e+01,  1.44843357e+02],\n",
       "        [-1.79714897e+02,  1.96165553e+02],\n",
       "        [ 1.76269553e+02,  1.00173580e+02],\n",
       "        [-1.54076833e+01, -5.64748124e+01],\n",
       "        [ 2.56337099e+02,  6.62380127e+01],\n",
       "        [ 7.52877073e+01,  1.29259799e+02],\n",
       "        [ 1.51916699e+02,  1.03674608e+02],\n",
       "        [-1.74036881e+01, -1.09809931e+02],\n",
       "        [-2.17281661e+02,  2.09410434e+02],\n",
       "        [ 1.84961277e+02,  8.31168771e+01],\n",
       "        [ 1.23365618e+02,  9.42965851e+01],\n",
       "        [ 1.53526893e+02,  8.46167054e+01],\n",
       "        [-6.59803508e+01,  1.65330660e+02],\n",
       "        [ 2.27066131e+02,  5.06131500e+01],\n",
       "        [-8.59372556e+01,  4.36002296e+01],\n",
       "        [-1.08302436e+02,  2.67706031e+02],\n",
       "        [ 3.74017943e+01,  9.53040013e+01],\n",
       "        [-4.72716793e+01,  1.28126732e+02],\n",
       "        [-1.46885138e+02,  2.21918727e+02],\n",
       "        [ 1.02037853e+02,  9.67509898e+01],\n",
       "        [-1.33901648e+02,  2.02350215e+02],\n",
       "        [-1.11091234e+02,  8.07504808e+01],\n",
       "        [-5.84119092e+01,  6.94677680e+01],\n",
       "        [ 2.21336711e+02,  5.03866467e+01],\n",
       "        [-5.38796849e+01,  9.53086455e+01],\n",
       "        [ 5.59332436e+01,  1.70401972e+02],\n",
       "        [ 9.25339619e+01,  1.04219969e+02],\n",
       "        [ 8.20028631e+01,  1.18758781e+02],\n",
       "        [-4.63319804e+01, -1.37313845e+01],\n",
       "        [-1.35995923e+02,  1.27908488e+02],\n",
       "        [-9.69192995e+01,  1.53357321e+02],\n",
       "        [-6.60321213e+01,  3.49155839e+01],\n",
       "        [-2.42653273e+01,  2.67969168e+01],\n",
       "        [-6.67136986e+01,  1.34636713e+02],\n",
       "        [ 1.93608760e+02,  6.67385803e+01],\n",
       "        [-4.00124999e+01,  9.18946283e+01],\n",
       "        [ 1.56397387e+02,  7.65079200e+01],\n",
       "        [-1.79315910e+02,  2.00280596e+02],\n",
       "        [-7.86893070e+01,  2.12847989e+01],\n",
       "        [ 9.19363052e+01,  1.13205620e+02],\n",
       "        [-9.10253654e+01,  3.55508486e+01],\n",
       "        [-6.28012325e+01,  3.69231574e+01],\n",
       "        [-1.53994858e+02,  8.16192639e+01],\n",
       "        [ 5.64925021e+01, -4.19649782e+01],\n",
       "        [ 2.03261375e+02,  9.63564703e+01],\n",
       "        [ 1.04063241e+02,  1.03482094e+02],\n",
       "        [ 2.05567639e+02,  4.09177376e+01],\n",
       "        [-1.01688066e+02,  9.95204689e+01],\n",
       "        [-2.26306767e+02,  1.55565936e+02],\n",
       "        [ 1.72278037e+02,  1.05884837e+02],\n",
       "        [-5.82072413e+01,  3.14693271e+01],\n",
       "        [-1.46758540e+02,  1.76059295e+02],\n",
       "        [-1.98069948e+02,  2.76443983e+02],\n",
       "        [ 1.71973185e+02,  8.59123377e+01],\n",
       "        [-4.58944100e+01,  4.90542799e+01],\n",
       "        [ 1.12254929e+02,  1.28205478e+02],\n",
       "        [-1.20798037e+02,  5.59811686e+01],\n",
       "        [-1.81429150e+01,  1.54048177e+02],\n",
       "        [-7.87648386e+01,  1.65385383e+02],\n",
       "        [ 1.59573063e+02,  7.26556334e+01],\n",
       "        [-2.64706090e+00,  7.85108550e+01],\n",
       "        [-3.72537631e+01, -1.14032412e+01],\n",
       "        [-1.60653038e+02,  1.38414568e+02],\n",
       "        [-1.90195372e+02,  1.01890224e+02],\n",
       "        [ 1.23199309e+02,  7.71244409e+01],\n",
       "        [-1.44113480e+02,  2.09861494e+02],\n",
       "        [-2.00576442e+02,  2.14275977e+02],\n",
       "        [ 1.93165791e+02,  6.92967897e+01],\n",
       "        [ 2.84330934e+02,  3.48764867e+01],\n",
       "        [ 4.43097289e+01,  1.24579573e+02],\n",
       "        [-8.52062039e+01,  1.29955760e+02],\n",
       "        [-3.92487785e+01,  8.76757714e+01],\n",
       "        [-9.73431737e+01,  3.07888805e-02],\n",
       "        [-8.07103421e+01,  1.22849859e+02],\n",
       "        [ 4.26174433e+00,  1.11725163e+02],\n",
       "        [-1.79397180e+02,  1.67047013e+02],\n",
       "        [-1.13249314e+02,  1.61330786e+02],\n",
       "        [-6.75595059e+01,  1.42563477e+02],\n",
       "        [ 2.11240725e+02,  8.71412243e+01],\n",
       "        [-4.82887065e+01,  2.59991741e+01],\n",
       "        [ 2.79913936e+02,  4.33432384e+01],\n",
       "        [-1.67589584e+02,  1.65038624e+02],\n",
       "        [ 1.16473151e+02,  1.15767762e+02],\n",
       "        [-6.62509833e+01,  3.88223058e+01],\n",
       "        [ 2.61100355e+02,  5.14329655e+01],\n",
       "        [-7.81205459e+01,  7.38856455e+01],\n",
       "        [-1.78099862e+02,  1.76659562e+02],\n",
       "        [-7.98358340e+01,  1.89977029e+02],\n",
       "        [-2.30604442e+01,  1.28138294e+02],\n",
       "        [ 4.42410377e+01,  1.30209030e+02],\n",
       "        [-5.05847123e+01,  8.89095318e+01],\n",
       "        [-2.24183649e+02,  1.67894003e+02],\n",
       "        [-1.40750455e+02,  1.66228420e+02],\n",
       "        [-1.32473778e+02,  1.85686546e+02],\n",
       "        [-1.08186737e+02,  1.13724702e+02],\n",
       "        [-7.08040857e+01,  1.30036000e+02],\n",
       "        [-2.36134999e+02,  2.24816461e+02],\n",
       "        [-1.38564227e+02,  7.10125683e+01],\n",
       "        [-1.09781266e+02,  2.34212195e+01],\n",
       "        [ 1.67652413e+02,  9.14301842e+01],\n",
       "        [-1.30027577e+02,  1.56019939e+02],\n",
       "        [-8.02534690e+01,  3.08705369e+01],\n",
       "        [-1.09646032e+01,  2.83294887e+01],\n",
       "        [-1.08285884e+02,  1.01261436e+02],\n",
       "        [-6.62847491e+01,  7.35472684e+01],\n",
       "        [ 2.40412272e+02,  8.40749353e+01],\n",
       "        [ 1.04821968e+02,  1.25510443e+02],\n",
       "        [ 1.39813098e+02,  9.32454851e+01],\n",
       "        [-3.68989374e+01,  1.40125737e+02],\n",
       "        [-9.25296521e+01,  9.23190712e+01],\n",
       "        [ 3.45231904e+00,  2.62055233e+01],\n",
       "        [ 1.62367328e+02,  7.74169771e+01],\n",
       "        [-1.77124343e+02,  1.45765162e+02],\n",
       "        [ 2.00555050e+02,  7.52241885e+01],\n",
       "        [-1.58786437e+02,  1.59545888e+02],\n",
       "        [ 2.98124522e+02,  7.14559042e+01],\n",
       "        [ 2.95385921e+02,  3.40868335e+01],\n",
       "        [-1.61386303e+02,  3.24709160e+02],\n",
       "        [ 2.21646562e+02,  1.00773506e+02],\n",
       "        [ 1.33922631e+00,  1.41961534e+01],\n",
       "        [-1.66694853e+02,  2.48175262e+02],\n",
       "        [ 1.17017973e+02,  8.36217016e+01],\n",
       "        [-1.00783044e+02,  2.24289470e+02],\n",
       "        [ 1.72710993e+02,  8.49457679e+01],\n",
       "        [-1.31168223e+02,  8.92329577e+01],\n",
       "        [-2.03925012e+01, -6.10035523e+01],\n",
       "        [-1.37313610e+02,  1.27744413e+02],\n",
       "        [-1.70970291e+02,  2.47187606e+02],\n",
       "        [ 1.03352292e+02,  1.17056489e+02],\n",
       "        [-1.31069166e+02,  1.75721733e+02],\n",
       "        [-4.23958558e+01, -2.47243295e+00],\n",
       "        [ 3.92103919e+01,  1.08476567e+02],\n",
       "        [ 1.92775945e+02,  7.72046141e+01],\n",
       "        [ 3.59716100e+02,  2.01428952e+01],\n",
       "        [ 5.27481854e+01,  1.00498690e+02],\n",
       "        [ 7.24072213e+01,  1.37470004e+02],\n",
       "        [ 1.79788628e+02,  4.11177273e+01],\n",
       "        [-7.82026347e+01,  1.00490602e+02],\n",
       "        [ 1.30833021e+02,  1.13935453e+02],\n",
       "        [-7.09253478e+01, -6.36334149e+00],\n",
       "        [-8.36914198e+01,  6.65446668e+01],\n",
       "        [-8.56463698e+01,  4.23404540e+01],\n",
       "        [-6.37013989e+01,  8.10432327e+01],\n",
       "        [ 4.99122106e+01,  1.08666604e+02],\n",
       "        [ 1.02342902e+02,  9.25547393e+01],\n",
       "        [-1.98604368e+02,  2.51135313e+02],\n",
       "        [ 5.18736001e+01,  9.70238570e+01],\n",
       "        [-1.29009019e+02,  1.79027771e+02],\n",
       "        [-3.71877625e+01,  1.11783263e+02],\n",
       "        [-1.83292598e+02,  1.28081645e+02],\n",
       "        [-1.00244402e+02,  9.44466623e+01],\n",
       "        [ 4.59564285e+01,  1.02593272e+02],\n",
       "        [ 1.64861773e+02,  1.14983447e+02],\n",
       "        [ 2.80739335e+02,  3.50562432e+01],\n",
       "        [ 2.06870929e+02,  7.81367001e+01],\n",
       "        [-6.33802669e+01,  1.51500867e+02],\n",
       "        [-2.44989340e+02,  1.62002126e+02],\n",
       "        [-6.75913372e+01,  5.59104142e+01],\n",
       "        [ 2.00599676e+02,  6.97175665e+01],\n",
       "        [-8.08277496e+01,  1.87747334e+02],\n",
       "        [-1.15439960e+02,  1.20616554e+02],\n",
       "        [ 1.28981739e+02,  9.66485487e+01],\n",
       "        [ 1.86332717e+02,  3.06121926e+01],\n",
       "        [ 8.94881591e+01,  1.18982342e+02],\n",
       "        [ 1.46594574e+02,  6.14646578e+01],\n",
       "        [-1.56626212e+02,  1.61651386e+02],\n",
       "        [ 2.33643484e+02,  5.96970681e+01],\n",
       "        [-1.31937706e+02,  2.36748299e+02],\n",
       "        [-1.85771113e+02,  2.97498615e+02],\n",
       "        [ 1.50806323e+02,  6.19304747e+01],\n",
       "        [-2.19293659e+02,  2.46176084e+02],\n",
       "        [ 1.97487040e+02,  8.89353712e+01],\n",
       "        [-9.03562600e+01,  1.06604717e+02],\n",
       "        [-2.99543083e+01,  3.16901992e+01],\n",
       "        [ 1.03883998e+02,  6.30307723e+01],\n",
       "        [-1.22488428e+02,  9.84699524e+01],\n",
       "        [ 1.35444739e+01, -4.92760007e+01],\n",
       "        [-8.27696863e+01,  1.48008169e+01],\n",
       "        [-1.57858217e+02,  1.47227853e+02],\n",
       "        [-1.45241376e+02,  6.54715645e+01],\n",
       "        [ 1.44132770e+02,  1.09213887e+02],\n",
       "        [ 7.87146435e+01,  1.14274600e+02],\n",
       "        [-3.41735527e+01,  9.83857731e+01],\n",
       "        [ 5.16356774e+01,  1.18971771e+02],\n",
       "        [ 1.13331494e+02,  9.63292786e+01],\n",
       "        [-1.81918830e+01,  1.31812631e+02],\n",
       "        [-4.27031130e+01,  5.61962118e+01],\n",
       "        [ 2.39886857e+01, -4.48700181e+01],\n",
       "        [-7.18626564e-01,  1.29551558e+02],\n",
       "        [ 8.34871661e+01,  1.06430920e+02],\n",
       "        [-1.57893104e+02,  2.46892996e+02],\n",
       "        [-8.49631410e+01,  1.60714132e+02],\n",
       "        [-4.53247294e+01,  1.47993743e+02],\n",
       "        [ 2.89553032e+01,  9.85528677e+01],\n",
       "        [ 1.73832703e+02,  9.31585046e+01],\n",
       "        [ 6.92915382e+01,  1.22616485e+02],\n",
       "        [-1.93543086e+02,  1.78466218e+02],\n",
       "        [-7.26773516e+01,  2.07399188e+02],\n",
       "        [ 7.99505208e+01,  8.49268012e+01],\n",
       "        [ 4.53714173e+01,  1.37941511e+02],\n",
       "        [-1.61107138e+02,  2.19484415e+02],\n",
       "        [ 2.91936157e+02,  4.71711301e+01],\n",
       "        [-9.91004993e+01,  1.69730741e+02],\n",
       "        [-1.25377400e+02,  1.38179598e+02],\n",
       "        [-3.01179271e+01,  1.05606174e+02],\n",
       "        [-1.23994331e+02,  1.76768413e+02],\n",
       "        [ 8.45862387e+01,  1.09645428e+02],\n",
       "        [-1.56384826e+02,  8.27388064e+01],\n",
       "        [-1.13002099e+02, -9.14312213e+00],\n",
       "        [ 5.95187210e+01,  1.23301925e+02],\n",
       "        [-2.37623762e+01, -8.68592365e+00],\n",
       "        [ 1.72195876e+02,  8.81887117e+01],\n",
       "        [-7.33873304e+01,  6.72914682e+01],\n",
       "        [ 7.19925094e+01,  9.93005828e+01],\n",
       "        [ 1.55217308e+02,  9.51058667e+01],\n",
       "        [-1.33370686e+02,  1.39739177e+02],\n",
       "        [-1.88917158e+01, -2.82907566e+01],\n",
       "        [ 5.78213130e+01,  1.52159117e+02],\n",
       "        [-2.46572037e+02,  2.76096020e+02],\n",
       "        [ 2.24669771e+01,  1.08278747e+02],\n",
       "        [-1.96533601e+02,  2.03756003e+02],\n",
       "        [-4.14469962e+01,  1.29930239e+02],\n",
       "        [-1.70405822e+02,  2.39755322e+02],\n",
       "        [-4.38644643e+01,  1.68035902e+02],\n",
       "        [ 1.95296790e+02,  4.09996573e+01],\n",
       "        [ 1.72275210e+02,  7.78375520e+01],\n",
       "        [-4.06271734e+01, -6.55655023e+01],\n",
       "        [-2.83891795e+01,  1.55281846e+02],\n",
       "        [ 2.16931399e+02,  5.75163577e+01],\n",
       "        [-7.87070895e+01,  9.95362319e+01],\n",
       "        [ 4.19097348e+01,  1.17839546e+02],\n",
       "        [-8.83263123e+01, -2.95122909e+01],\n",
       "        [ 7.59432924e+01,  9.37188168e+01],\n",
       "        [ 6.12847879e+01,  8.08217487e+01],\n",
       "        [ 1.73565201e+02,  6.70123624e+01],\n",
       "        [-1.61699217e+02,  1.63893622e+02],\n",
       "        [-8.38434186e+01,  2.06164405e-02],\n",
       "        [ 6.39901258e+01, -1.36092396e+02],\n",
       "        [-1.17498133e+01,  1.85808771e+01],\n",
       "        [ 1.85816507e+02,  6.24420055e+01],\n",
       "        [ 1.25181157e+01,  1.52009840e+02],\n",
       "        [ 1.25703945e+02,  1.08783445e+02],\n",
       "        [-2.01431705e+02,  2.04412865e+02],\n",
       "        [ 1.56547206e+02,  8.39165329e+01],\n",
       "        [-1.48551870e+02,  3.11588345e+02],\n",
       "        [ 1.69984481e+02,  7.78157079e+01],\n",
       "        [ 9.72076980e+01,  1.42996252e+02],\n",
       "        [-8.84082380e+01,  7.75309297e+01],\n",
       "        [ 1.03281442e+02,  1.24554823e+02],\n",
       "        [ 1.14969053e+01,  1.14113672e+02],\n",
       "        [-1.59492531e+02,  2.13455027e+02],\n",
       "        [ 1.67231980e+02,  5.28840036e+01],\n",
       "        [-1.23313317e+02,  1.94667399e+02],\n",
       "        [-3.53807801e+00,  1.51047784e+02],\n",
       "        [ 7.45895527e+01, -5.08623780e+01],\n",
       "        [-3.08414282e+01, -2.32226521e+01],\n",
       "        [ 1.27763674e+02,  1.19146022e+02],\n",
       "        [ 6.56386554e+01,  1.07947507e+02],\n",
       "        [ 1.41994060e+02,  9.04580325e+01],\n",
       "        [-1.16774240e+02,  1.25043570e+02],\n",
       "        [-6.24581362e+01,  1.35707376e+02],\n",
       "        [-9.91360771e+01,  1.71221303e+02],\n",
       "        [-1.44017364e+02,  1.48895571e+02],\n",
       "        [-1.24992877e+02,  1.26433148e+02],\n",
       "        [ 9.01038035e+01,  1.11437808e+02],\n",
       "        [ 1.60272371e+02,  6.60453240e+01],\n",
       "        [ 2.35217443e+02,  5.91911131e+01],\n",
       "        [-1.34692890e+02,  1.12839265e+02],\n",
       "        [-8.48383261e+01,  1.34761986e+02],\n",
       "        [-1.61415720e+02,  8.51687905e+01],\n",
       "        [-8.55589213e+01, -2.02128247e+01],\n",
       "        [ 1.55625071e+02,  9.16622522e+01],\n",
       "        [-9.79376498e+01,  1.50859144e+02],\n",
       "        [-1.38718568e+01,  1.58237544e+02],\n",
       "        [-1.53699226e+02,  2.06281122e+02],\n",
       "        [ 2.26345553e+02,  2.47477789e+01],\n",
       "        [ 4.29137771e+01,  1.16759636e+02],\n",
       "        [-6.98414479e+01,  6.53017571e+01],\n",
       "        [-1.25742115e+02,  9.49558144e+01],\n",
       "        [ 1.27623619e+01, -9.13634677e+01],\n",
       "        [-5.64649030e+01,  5.06186208e+01],\n",
       "        [-1.55336591e+02,  2.36831913e+02],\n",
       "        [ 4.45063273e+01, -1.54623774e+02],\n",
       "        [-4.72114338e+01,  2.37196995e+01],\n",
       "        [ 8.55359285e+01,  9.94546072e+01],\n",
       "        [ 8.07497184e+01,  8.74869455e+01],\n",
       "        [ 7.67442337e+01,  1.20989334e+02],\n",
       "        [ 1.88869624e+02,  8.01800537e+01],\n",
       "        [-1.09818641e+02,  1.53214904e+02],\n",
       "        [-9.77241132e+01,  7.45623133e+01],\n",
       "        [-1.60135145e+02,  1.64145339e+02],\n",
       "        [-1.02042765e+02,  1.45673500e+02],\n",
       "        [ 1.84253544e+02,  7.29034520e+01],\n",
       "        [ 1.94089927e+02,  6.70046971e+01]]),\n",
       " array([0, 1, 0, 0, 0, 0, 0, 1, 0, 1, 0, 0, 0, 1, 1, 0, 0, 0, 1, 0, 1, 1,\n",
       "        0, 0, 1, 0, 1, 1, 1, 0, 1, 0, 0, 0, 1, 1, 1, 1, 1, 0, 0, 1, 0, 1,\n",
       "        1, 0, 1, 1, 1, 1, 0, 0, 0, 1, 1, 0, 1, 1, 1, 0, 1, 0, 1, 0, 0, 0,\n",
       "        1, 1, 1, 1, 0, 1, 1, 0, 0, 0, 0, 1, 1, 1, 0, 1, 1, 1, 0, 1, 0, 1,\n",
       "        0, 1, 0, 1, 1, 0, 0, 0, 1, 1, 1, 1, 0, 0, 1, 1, 1, 0, 1, 1, 1, 1,\n",
       "        1, 0, 0, 0, 0, 1, 1, 0, 1, 0, 1, 0, 0, 1, 0, 1, 1, 0, 1, 0, 1, 1,\n",
       "        1, 1, 0, 1, 1, 0, 0, 0, 0, 0, 0, 1, 0, 1, 1, 1, 1, 0, 0, 1, 0, 0,\n",
       "        1, 1, 1, 0, 0, 0, 0, 0, 0, 1, 0, 1, 1, 0, 0, 0, 0, 1, 0, 1, 1, 0,\n",
       "        1, 0, 1, 1, 0, 1, 1, 1, 1, 1, 0, 0, 1, 0, 0, 0, 1, 1, 0, 0, 1, 0,\n",
       "        0, 0, 0, 0, 1, 1, 0, 0, 1, 0, 1, 1, 0, 0, 0, 1, 1, 0, 1, 0, 1, 0,\n",
       "        0, 1, 1, 0, 1, 0, 1, 0, 1, 0, 0, 0, 1, 0, 0, 1, 0, 1, 0, 0, 0, 1,\n",
       "        1, 1, 1, 0, 0, 0, 1, 0, 1, 0, 0, 1, 0, 0, 1, 0, 1, 0, 1, 1, 0, 0,\n",
       "        0, 1, 1, 0, 1, 1, 0, 0, 0, 1, 0, 1, 1, 0, 1, 0, 1, 0, 0, 1, 1, 1,\n",
       "        1, 1, 1, 1, 0, 0, 0, 0, 1, 1, 1, 1, 0, 0]))"
      ]
     },
     "execution_count": 102,
     "metadata": {},
     "output_type": "execute_result"
    }
   ],
   "source": [
    "X, y = make_classification(n_samples=300, n_features=2, n_redundant=0, n_informative=2,\n",
    "                          random_state=22, n_clusters_per_class=1, scale=100)\n",
    "X, y\n",
    "# n_informative=2 有两个比较相关的属性\n",
    "# random_state=22 随机数种子，使每次运行结果一致\n"
   ]
  },
  {
   "cell_type": "code",
   "execution_count": 96,
   "metadata": {},
   "outputs": [
    {
     "data": {
      "text/plain": [
       "(300, 2)"
      ]
     },
     "execution_count": 96,
     "metadata": {},
     "output_type": "execute_result"
    }
   ],
   "source": [
    "np.shape(X)"
   ]
  },
  {
   "cell_type": "code",
   "execution_count": 97,
   "metadata": {},
   "outputs": [
    {
     "data": {
      "text/plain": [
       "(300,)"
      ]
     },
     "execution_count": 97,
     "metadata": {},
     "output_type": "execute_result"
    }
   ],
   "source": [
    "np.shape(y)"
   ]
  },
  {
   "cell_type": "code",
   "execution_count": 100,
   "metadata": {
    "scrolled": false
   },
   "outputs": [
    {
     "data": {
      "text/plain": [
       "array([0, 1, 0, 0, 0, 0, 0, 1, 0, 1, 0, 0, 0, 1, 1, 0, 0, 0, 1, 0, 1, 1,\n",
       "       0, 0, 1, 0, 1, 1, 1, 0, 1, 0, 0, 0, 1, 1, 1, 1, 1, 0, 0, 1, 0, 1,\n",
       "       1, 0, 1, 1, 1, 1, 0, 0, 0, 1, 1, 0, 1, 1, 1, 0, 1, 0, 1, 0, 0, 0,\n",
       "       1, 1, 1, 1, 0, 1, 1, 0, 0, 0, 0, 1, 1, 1, 0, 1, 1, 1, 0, 1, 0, 1,\n",
       "       0, 1, 0, 1, 1, 0, 0, 0, 1, 1, 1, 1, 0, 0, 1, 1, 1, 0, 1, 1, 1, 1,\n",
       "       1, 0, 0, 0, 0, 1, 1, 0, 1, 0, 1, 0, 0, 1, 0, 1, 1, 0, 1, 0, 1, 1,\n",
       "       1, 1, 0, 1, 1, 0, 0, 0, 0, 0, 0, 1, 0, 1, 1, 1, 1, 0, 0, 1, 0, 0,\n",
       "       1, 1, 1, 0, 0, 0, 0, 0, 0, 1, 0, 1, 1, 0, 0, 0, 0, 1, 0, 1, 1, 0,\n",
       "       1, 0, 1, 1, 0, 1, 1, 1, 1, 1, 0, 0, 1, 0, 0, 0, 1, 1, 0, 0, 1, 0,\n",
       "       0, 0, 0, 0, 1, 1, 0, 0, 1, 0, 1, 1, 0, 0, 0, 1, 1, 0, 1, 0, 1, 0,\n",
       "       0, 1, 1, 0, 1, 0, 1, 0, 1, 0, 0, 0, 1, 0, 0, 1, 0, 1, 0, 0, 0, 1,\n",
       "       1, 1, 1, 0, 0, 0, 1, 0, 1, 0, 0, 1, 0, 0, 1, 0, 1, 0, 1, 1, 0, 0,\n",
       "       0, 1, 1, 0, 1, 1, 0, 0, 0, 1, 0, 1, 1, 0, 1, 0, 1, 0, 0, 1, 1, 1,\n",
       "       1, 1, 1, 1, 0, 0, 0, 0, 1, 1, 1, 1, 0, 0])"
      ]
     },
     "execution_count": 100,
     "metadata": {},
     "output_type": "execute_result"
    }
   ],
   "source": [
    "y"
   ]
  },
  {
   "cell_type": "code",
   "execution_count": 103,
   "metadata": {},
   "outputs": [
    {
     "data": {
      "text/plain": [
       "<matplotlib.collections.PathCollection at 0x255e71cf9e8>"
      ]
     },
     "execution_count": 103,
     "metadata": {},
     "output_type": "execute_result"
    },
    {
     "data": {
      "image/png": "[encoded data removed]",
      "text/plain": [
       "<Figure size 432x288 with 1 Axes>"
      ]
     },
     "metadata": {
      "needs_background": "light"
     },
     "output_type": "display_data"
    }
   ],
   "source": [
    "plt.scatter(X[:,0],X[:,1],c=y)"
   ]
  },
  {
   "cell_type": "code",
   "execution_count": 104,
   "metadata": {},
   "outputs": [],
   "source": [
    "X = preprocessing.scale(X)"
   ]
  },
  {
   "cell_type": "code",
   "execution_count": 105,
   "metadata": {},
   "outputs": [
    {
     "data": {
      "text/plain": [
       "<matplotlib.collections.PathCollection at 0x255e7213470>"
      ]
     },
     "execution_count": 105,
     "metadata": {},
     "output_type": "execute_result"
    },
    {
     "data": {
      "image/png": "[encoded data removed]",
      "text/plain": [
       "<Figure size 432x288 with 1 Axes>"
      ]
     },
     "metadata": {
      "needs_background": "light"
     },
     "output_type": "display_data"
    }
   ],
   "source": [
    "plt.scatter(X[:,0],X[:,1],c=y)"
   ]
  },
  {
   "cell_type": "code",
   "execution_count": 106,
   "metadata": {},
   "outputs": [],
   "source": [
    "X = preprocessing.minmax_scale(X,feature_range=(-1,1))"
   ]
  },
  {
   "cell_type": "code",
   "execution_count": 107,
   "metadata": {},
   "outputs": [
    {
     "data": {
      "text/plain": [
       "<matplotlib.collections.PathCollection at 0x255e7254390>"
      ]
     },
     "execution_count": 107,
     "metadata": {},
     "output_type": "execute_result"
    },
    {
     "data": {
      "image/png": "[encoded data removed]",
      "text/plain": [
       "<Figure size 432x288 with 1 Axes>"
      ]
     },
     "metadata": {
      "needs_background": "light"
     },
     "output_type": "display_data"
    }
   ],
   "source": [
    "plt.scatter(X[:,0],X[:,1],c=y)"
   ]
  },
  {
   "cell_type": "code",
   "execution_count": 108,
   "metadata": {},
   "outputs": [],
   "source": [
    "X = preprocessing.minmax_scale(X,feature_range=(0,1)) #默认"
   ]
  },
  {
   "cell_type": "code",
   "execution_count": 109,
   "metadata": {},
   "outputs": [
    {
     "data": {
      "text/plain": [
       "<matplotlib.collections.PathCollection at 0x255e72a0588>"
      ]
     },
     "execution_count": 109,
     "metadata": {},
     "output_type": "execute_result"
    },
    {
     "data": {
      "image/png": "[encoded data removed]",
      "text/plain": [
       "<Figure size 432x288 with 1 Axes>"
      ]
     },
     "metadata": {
      "needs_background": "light"
     },
     "output_type": "display_data"
    }
   ],
   "source": [
    "plt.scatter(X[:,0],X[:,1],c=y)"
   ]
  },
  {
   "cell_type": "code",
   "execution_count": 110,
   "metadata": {},
   "outputs": [],
   "source": [
    "X = preprocessing.minmax_scale(X) #默认"
   ]
  },
  {
   "cell_type": "code",
   "execution_count": 111,
   "metadata": {},
   "outputs": [
    {
     "data": {
      "text/plain": [
       "<matplotlib.collections.PathCollection at 0x255e72c3a90>"
      ]
     },
     "execution_count": 111,
     "metadata": {},
     "output_type": "execute_result"
    },
    {
     "data": {
      "image/png": "[encoded data removed]",
      "text/plain": [
       "<Figure size 432x288 with 1 Axes>"
      ]
     },
     "metadata": {
      "needs_background": "light"
     },
     "output_type": "display_data"
    }
   ],
   "source": [
    "plt.scatter(X[:,0],X[:,1],c=y)"
   ]
  },
  {
   "cell_type": "code",
   "execution_count": 112,
   "metadata": {},
   "outputs": [],
   "source": [
    "X_train, X_test, y_train, y_test = train_test_split(X, y, test_size=.3)"
   ]
  },
  {
   "cell_type": "code",
   "execution_count": 114,
   "metadata": {},
   "outputs": [
    {
     "data": {
      "text/plain": [
       "SVC(C=1.0, cache_size=200, class_weight=None, coef0=0.0,\n",
       "    decision_function_shape='ovr', degree=3, gamma='auto_deprecated',\n",
       "    kernel='rbf', max_iter=-1, probability=False, random_state=None,\n",
       "    shrinking=True, tol=0.001, verbose=False)"
      ]
     },
     "execution_count": 114,
     "metadata": {},
     "output_type": "execute_result"
    }
   ],
   "source": [
    "clf = SVC()\n",
    "clf"
   ]
  },
  {
   "cell_type": "code",
   "execution_count": 115,
   "metadata": {},
   "outputs": [
    {
     "name": "stderr",
     "output_type": "stream",
     "text": [
      "E:\\Anaconda\\envs\\python3.6\\lib\\site-packages\\sklearn\\svm\\base.py:193: FutureWarning: The default value of gamma will change from 'auto' to 'scale' in version 0.22 to account better for unscaled features. Set gamma explicitly to 'auto' or 'scale' to avoid this warning.\n",
      "  \"avoid this warning.\", FutureWarning)\n"
     ]
    },
    {
     "data": {
      "text/plain": [
       "SVC(C=1.0, cache_size=200, class_weight=None, coef0=0.0,\n",
       "    decision_function_shape='ovr', degree=3, gamma='auto_deprecated',\n",
       "    kernel='rbf', max_iter=-1, probability=False, random_state=None,\n",
       "    shrinking=True, tol=0.001, verbose=False)"
      ]
     },
     "execution_count": 115,
     "metadata": {},
     "output_type": "execute_result"
    }
   ],
   "source": [
    "clf.fit(X_train, y_train)"
   ]
  },
  {
   "cell_type": "code",
   "execution_count": 116,
   "metadata": {},
   "outputs": [
    {
     "data": {
      "text/plain": [
       "0.8888888888888888"
      ]
     },
     "execution_count": 116,
     "metadata": {},
     "output_type": "execute_result"
    }
   ],
   "source": [
    "clf.score(X_test,y_test)"
   ]
  },
  {
   "cell_type": "markdown",
   "metadata": {},
   "source": [
    "#### 不归一化"
   ]
  },
  {
   "cell_type": "code",
   "execution_count": 117,
   "metadata": {},
   "outputs": [
    {
     "data": {
      "text/plain": [
       "(array([[ 2.70291644e+02,  6.61960634e+01],\n",
       "        [-1.14084935e+02,  2.08200955e+02],\n",
       "        [ 1.38261970e+02,  9.79644473e+01],\n",
       "        [ 8.21203452e+01,  1.28324302e+02],\n",
       "        [-6.70488205e+01,  1.75784878e+02],\n",
       "        [-6.47279575e+01,  1.29540413e+02],\n",
       "        [-1.60748166e+01,  1.44843357e+02],\n",
       "        [-1.79714897e+02,  1.96165553e+02],\n",
       "        [ 1.76269553e+02,  1.00173580e+02],\n",
       "        [-1.54076833e+01, -5.64748124e+01],\n",
       "        [ 2.56337099e+02,  6.62380127e+01],\n",
       "        [ 7.52877073e+01,  1.29259799e+02],\n",
       "        [ 1.51916699e+02,  1.03674608e+02],\n",
       "        [-1.74036881e+01, -1.09809931e+02],\n",
       "        [-2.17281661e+02,  2.09410434e+02],\n",
       "        [ 1.84961277e+02,  8.31168771e+01],\n",
       "        [ 1.23365618e+02,  9.42965851e+01],\n",
       "        [ 1.53526893e+02,  8.46167054e+01],\n",
       "        [-6.59803508e+01,  1.65330660e+02],\n",
       "        [ 2.27066131e+02,  5.06131500e+01],\n",
       "        [-8.59372556e+01,  4.36002296e+01],\n",
       "        [-1.08302436e+02,  2.67706031e+02],\n",
       "        [ 3.74017943e+01,  9.53040013e+01],\n",
       "        [-4.72716793e+01,  1.28126732e+02],\n",
       "        [-1.46885138e+02,  2.21918727e+02],\n",
       "        [ 1.02037853e+02,  9.67509898e+01],\n",
       "        [-1.33901648e+02,  2.02350215e+02],\n",
       "        [-1.11091234e+02,  8.07504808e+01],\n",
       "        [-5.84119092e+01,  6.94677680e+01],\n",
       "        [ 2.21336711e+02,  5.03866467e+01],\n",
       "        [-5.38796849e+01,  9.53086455e+01],\n",
       "        [ 5.59332436e+01,  1.70401972e+02],\n",
       "        [ 9.25339619e+01,  1.04219969e+02],\n",
       "        [ 8.20028631e+01,  1.18758781e+02],\n",
       "        [-4.63319804e+01, -1.37313845e+01],\n",
       "        [-1.35995923e+02,  1.27908488e+02],\n",
       "        [-9.69192995e+01,  1.53357321e+02],\n",
       "        [-6.60321213e+01,  3.49155839e+01],\n",
       "        [-2.42653273e+01,  2.67969168e+01],\n",
       "        [-6.67136986e+01,  1.34636713e+02],\n",
       "        [ 1.93608760e+02,  6.67385803e+01],\n",
       "        [-4.00124999e+01,  9.18946283e+01],\n",
       "        [ 1.56397387e+02,  7.65079200e+01],\n",
       "        [-1.79315910e+02,  2.00280596e+02],\n",
       "        [-7.86893070e+01,  2.12847989e+01],\n",
       "        [ 9.19363052e+01,  1.13205620e+02],\n",
       "        [-9.10253654e+01,  3.55508486e+01],\n",
       "        [-6.28012325e+01,  3.69231574e+01],\n",
       "        [-1.53994858e+02,  8.16192639e+01],\n",
       "        [ 5.64925021e+01, -4.19649782e+01],\n",
       "        [ 2.03261375e+02,  9.63564703e+01],\n",
       "        [ 1.04063241e+02,  1.03482094e+02],\n",
       "        [ 2.05567639e+02,  4.09177376e+01],\n",
       "        [-1.01688066e+02,  9.95204689e+01],\n",
       "        [-2.26306767e+02,  1.55565936e+02],\n",
       "        [ 1.72278037e+02,  1.05884837e+02],\n",
       "        [-5.82072413e+01,  3.14693271e+01],\n",
       "        [-1.46758540e+02,  1.76059295e+02],\n",
       "        [-1.98069948e+02,  2.76443983e+02],\n",
       "        [ 1.71973185e+02,  8.59123377e+01],\n",
       "        [-4.58944100e+01,  4.90542799e+01],\n",
       "        [ 1.12254929e+02,  1.28205478e+02],\n",
       "        [-1.20798037e+02,  5.59811686e+01],\n",
       "        [-1.81429150e+01,  1.54048177e+02],\n",
       "        [-7.87648386e+01,  1.65385383e+02],\n",
       "        [ 1.59573063e+02,  7.26556334e+01],\n",
       "        [-2.64706090e+00,  7.85108550e+01],\n",
       "        [-3.72537631e+01, -1.14032412e+01],\n",
       "        [-1.60653038e+02,  1.38414568e+02],\n",
       "        [-1.90195372e+02,  1.01890224e+02],\n",
       "        [ 1.23199309e+02,  7.71244409e+01],\n",
       "        [-1.44113480e+02,  2.09861494e+02],\n",
       "        [-2.00576442e+02,  2.14275977e+02],\n",
       "        [ 1.93165791e+02,  6.92967897e+01],\n",
       "        [ 2.84330934e+02,  3.48764867e+01],\n",
       "        [ 4.43097289e+01,  1.24579573e+02],\n",
       "        [-8.52062039e+01,  1.29955760e+02],\n",
       "        [-3.92487785e+01,  8.76757714e+01],\n",
       "        [-9.73431737e+01,  3.07888805e-02],\n",
       "        [-8.07103421e+01,  1.22849859e+02],\n",
       "        [ 4.26174433e+00,  1.11725163e+02],\n",
       "        [-1.79397180e+02,  1.67047013e+02],\n",
       "        [-1.13249314e+02,  1.61330786e+02],\n",
       "        [-6.75595059e+01,  1.42563477e+02],\n",
       "        [ 2.11240725e+02,  8.71412243e+01],\n",
       "        [-4.82887065e+01,  2.59991741e+01],\n",
       "        [ 2.79913936e+02,  4.33432384e+01],\n",
       "        [-1.67589584e+02,  1.65038624e+02],\n",
       "        [ 1.16473151e+02,  1.15767762e+02],\n",
       "        [-6.62509833e+01,  3.88223058e+01],\n",
       "        [ 2.61100355e+02,  5.14329655e+01],\n",
       "        [-7.81205459e+01,  7.38856455e+01],\n",
       "        [-1.78099862e+02,  1.76659562e+02],\n",
       "        [-7.98358340e+01,  1.89977029e+02],\n",
       "        [-2.30604442e+01,  1.28138294e+02],\n",
       "        [ 4.42410377e+01,  1.30209030e+02],\n",
       "        [-5.05847123e+01,  8.89095318e+01],\n",
       "        [-2.24183649e+02,  1.67894003e+02],\n",
       "        [-1.40750455e+02,  1.66228420e+02],\n",
       "        [-1.32473778e+02,  1.85686546e+02],\n",
       "        [-1.08186737e+02,  1.13724702e+02],\n",
       "        [-7.08040857e+01,  1.30036000e+02],\n",
       "        [-2.36134999e+02,  2.24816461e+02],\n",
       "        [-1.38564227e+02,  7.10125683e+01],\n",
       "        [-1.09781266e+02,  2.34212195e+01],\n",
       "        [ 1.67652413e+02,  9.14301842e+01],\n",
       "        [-1.30027577e+02,  1.56019939e+02],\n",
       "        [-8.02534690e+01,  3.08705369e+01],\n",
       "        [-1.09646032e+01,  2.83294887e+01],\n",
       "        [-1.08285884e+02,  1.01261436e+02],\n",
       "        [-6.62847491e+01,  7.35472684e+01],\n",
       "        [ 2.40412272e+02,  8.40749353e+01],\n",
       "        [ 1.04821968e+02,  1.25510443e+02],\n",
       "        [ 1.39813098e+02,  9.32454851e+01],\n",
       "        [-3.68989374e+01,  1.40125737e+02],\n",
       "        [-9.25296521e+01,  9.23190712e+01],\n",
       "        [ 3.45231904e+00,  2.62055233e+01],\n",
       "        [ 1.62367328e+02,  7.74169771e+01],\n",
       "        [-1.77124343e+02,  1.45765162e+02],\n",
       "        [ 2.00555050e+02,  7.52241885e+01],\n",
       "        [-1.58786437e+02,  1.59545888e+02],\n",
       "        [ 2.98124522e+02,  7.14559042e+01],\n",
       "        [ 2.95385921e+02,  3.40868335e+01],\n",
       "        [-1.61386303e+02,  3.24709160e+02],\n",
       "        [ 2.21646562e+02,  1.00773506e+02],\n",
       "        [ 1.33922631e+00,  1.41961534e+01],\n",
       "        [-1.66694853e+02,  2.48175262e+02],\n",
       "        [ 1.17017973e+02,  8.36217016e+01],\n",
       "        [-1.00783044e+02,  2.24289470e+02],\n",
       "        [ 1.72710993e+02,  8.49457679e+01],\n",
       "        [-1.31168223e+02,  8.92329577e+01],\n",
       "        [-2.03925012e+01, -6.10035523e+01],\n",
       "        [-1.37313610e+02,  1.27744413e+02],\n",
       "        [-1.70970291e+02,  2.47187606e+02],\n",
       "        [ 1.03352292e+02,  1.17056489e+02],\n",
       "        [-1.31069166e+02,  1.75721733e+02],\n",
       "        [-4.23958558e+01, -2.47243295e+00],\n",
       "        [ 3.92103919e+01,  1.08476567e+02],\n",
       "        [ 1.92775945e+02,  7.72046141e+01],\n",
       "        [ 3.59716100e+02,  2.01428952e+01],\n",
       "        [ 5.27481854e+01,  1.00498690e+02],\n",
       "        [ 7.24072213e+01,  1.37470004e+02],\n",
       "        [ 1.79788628e+02,  4.11177273e+01],\n",
       "        [-7.82026347e+01,  1.00490602e+02],\n",
       "        [ 1.30833021e+02,  1.13935453e+02],\n",
       "        [-7.09253478e+01, -6.36334149e+00],\n",
       "        [-8.36914198e+01,  6.65446668e+01],\n",
       "        [-8.56463698e+01,  4.23404540e+01],\n",
       "        [-6.37013989e+01,  8.10432327e+01],\n",
       "        [ 4.99122106e+01,  1.08666604e+02],\n",
       "        [ 1.02342902e+02,  9.25547393e+01],\n",
       "        [-1.98604368e+02,  2.51135313e+02],\n",
       "        [ 5.18736001e+01,  9.70238570e+01],\n",
       "        [-1.29009019e+02,  1.79027771e+02],\n",
       "        [-3.71877625e+01,  1.11783263e+02],\n",
       "        [-1.83292598e+02,  1.28081645e+02],\n",
       "        [-1.00244402e+02,  9.44466623e+01],\n",
       "        [ 4.59564285e+01,  1.02593272e+02],\n",
       "        [ 1.64861773e+02,  1.14983447e+02],\n",
       "        [ 2.80739335e+02,  3.50562432e+01],\n",
       "        [ 2.06870929e+02,  7.81367001e+01],\n",
       "        [-6.33802669e+01,  1.51500867e+02],\n",
       "        [-2.44989340e+02,  1.62002126e+02],\n",
       "        [-6.75913372e+01,  5.59104142e+01],\n",
       "        [ 2.00599676e+02,  6.97175665e+01],\n",
       "        [-8.08277496e+01,  1.87747334e+02],\n",
       "        [-1.15439960e+02,  1.20616554e+02],\n",
       "        [ 1.28981739e+02,  9.66485487e+01],\n",
       "        [ 1.86332717e+02,  3.06121926e+01],\n",
       "        [ 8.94881591e+01,  1.18982342e+02],\n",
       "        [ 1.46594574e+02,  6.14646578e+01],\n",
       "        [-1.56626212e+02,  1.61651386e+02],\n",
       "        [ 2.33643484e+02,  5.96970681e+01],\n",
       "        [-1.31937706e+02,  2.36748299e+02],\n",
       "        [-1.85771113e+02,  2.97498615e+02],\n",
       "        [ 1.50806323e+02,  6.19304747e+01],\n",
       "        [-2.19293659e+02,  2.46176084e+02],\n",
       "        [ 1.97487040e+02,  8.89353712e+01],\n",
       "        [-9.03562600e+01,  1.06604717e+02],\n",
       "        [-2.99543083e+01,  3.16901992e+01],\n",
       "        [ 1.03883998e+02,  6.30307723e+01],\n",
       "        [-1.22488428e+02,  9.84699524e+01],\n",
       "        [ 1.35444739e+01, -4.92760007e+01],\n",
       "        [-8.27696863e+01,  1.48008169e+01],\n",
       "        [-1.57858217e+02,  1.47227853e+02],\n",
       "        [-1.45241376e+02,  6.54715645e+01],\n",
       "        [ 1.44132770e+02,  1.09213887e+02],\n",
       "        [ 7.87146435e+01,  1.14274600e+02],\n",
       "        [-3.41735527e+01,  9.83857731e+01],\n",
       "        [ 5.16356774e+01,  1.18971771e+02],\n",
       "        [ 1.13331494e+02,  9.63292786e+01],\n",
       "        [-1.81918830e+01,  1.31812631e+02],\n",
       "        [-4.27031130e+01,  5.61962118e+01],\n",
       "        [ 2.39886857e+01, -4.48700181e+01],\n",
       "        [-7.18626564e-01,  1.29551558e+02],\n",
       "        [ 8.34871661e+01,  1.06430920e+02],\n",
       "        [-1.57893104e+02,  2.46892996e+02],\n",
       "        [-8.49631410e+01,  1.60714132e+02],\n",
       "        [-4.53247294e+01,  1.47993743e+02],\n",
       "        [ 2.89553032e+01,  9.85528677e+01],\n",
       "        [ 1.73832703e+02,  9.31585046e+01],\n",
       "        [ 6.92915382e+01,  1.22616485e+02],\n",
       "        [-1.93543086e+02,  1.78466218e+02],\n",
       "        [-7.26773516e+01,  2.07399188e+02],\n",
       "        [ 7.99505208e+01,  8.49268012e+01],\n",
       "        [ 4.53714173e+01,  1.37941511e+02],\n",
       "        [-1.61107138e+02,  2.19484415e+02],\n",
       "        [ 2.91936157e+02,  4.71711301e+01],\n",
       "        [-9.91004993e+01,  1.69730741e+02],\n",
       "        [-1.25377400e+02,  1.38179598e+02],\n",
       "        [-3.01179271e+01,  1.05606174e+02],\n",
       "        [-1.23994331e+02,  1.76768413e+02],\n",
       "        [ 8.45862387e+01,  1.09645428e+02],\n",
       "        [-1.56384826e+02,  8.27388064e+01],\n",
       "        [-1.13002099e+02, -9.14312213e+00],\n",
       "        [ 5.95187210e+01,  1.23301925e+02],\n",
       "        [-2.37623762e+01, -8.68592365e+00],\n",
       "        [ 1.72195876e+02,  8.81887117e+01],\n",
       "        [-7.33873304e+01,  6.72914682e+01],\n",
       "        [ 7.19925094e+01,  9.93005828e+01],\n",
       "        [ 1.55217308e+02,  9.51058667e+01],\n",
       "        [-1.33370686e+02,  1.39739177e+02],\n",
       "        [-1.88917158e+01, -2.82907566e+01],\n",
       "        [ 5.78213130e+01,  1.52159117e+02],\n",
       "        [-2.46572037e+02,  2.76096020e+02],\n",
       "        [ 2.24669771e+01,  1.08278747e+02],\n",
       "        [-1.96533601e+02,  2.03756003e+02],\n",
       "        [-4.14469962e+01,  1.29930239e+02],\n",
       "        [-1.70405822e+02,  2.39755322e+02],\n",
       "        [-4.38644643e+01,  1.68035902e+02],\n",
       "        [ 1.95296790e+02,  4.09996573e+01],\n",
       "        [ 1.72275210e+02,  7.78375520e+01],\n",
       "        [-4.06271734e+01, -6.55655023e+01],\n",
       "        [-2.83891795e+01,  1.55281846e+02],\n",
       "        [ 2.16931399e+02,  5.75163577e+01],\n",
       "        [-7.87070895e+01,  9.95362319e+01],\n",
       "        [ 4.19097348e+01,  1.17839546e+02],\n",
       "        [-8.83263123e+01, -2.95122909e+01],\n",
       "        [ 7.59432924e+01,  9.37188168e+01],\n",
       "        [ 6.12847879e+01,  8.08217487e+01],\n",
       "        [ 1.73565201e+02,  6.70123624e+01],\n",
       "        [-1.61699217e+02,  1.63893622e+02],\n",
       "        [-8.38434186e+01,  2.06164405e-02],\n",
       "        [ 6.39901258e+01, -1.36092396e+02],\n",
       "        [-1.17498133e+01,  1.85808771e+01],\n",
       "        [ 1.85816507e+02,  6.24420055e+01],\n",
       "        [ 1.25181157e+01,  1.52009840e+02],\n",
       "        [ 1.25703945e+02,  1.08783445e+02],\n",
       "        [-2.01431705e+02,  2.04412865e+02],\n",
       "        [ 1.56547206e+02,  8.39165329e+01],\n",
       "        [-1.48551870e+02,  3.11588345e+02],\n",
       "        [ 1.69984481e+02,  7.78157079e+01],\n",
       "        [ 9.72076980e+01,  1.42996252e+02],\n",
       "        [-8.84082380e+01,  7.75309297e+01],\n",
       "        [ 1.03281442e+02,  1.24554823e+02],\n",
       "        [ 1.14969053e+01,  1.14113672e+02],\n",
       "        [-1.59492531e+02,  2.13455027e+02],\n",
       "        [ 1.67231980e+02,  5.28840036e+01],\n",
       "        [-1.23313317e+02,  1.94667399e+02],\n",
       "        [-3.53807801e+00,  1.51047784e+02],\n",
       "        [ 7.45895527e+01, -5.08623780e+01],\n",
       "        [-3.08414282e+01, -2.32226521e+01],\n",
       "        [ 1.27763674e+02,  1.19146022e+02],\n",
       "        [ 6.56386554e+01,  1.07947507e+02],\n",
       "        [ 1.41994060e+02,  9.04580325e+01],\n",
       "        [-1.16774240e+02,  1.25043570e+02],\n",
       "        [-6.24581362e+01,  1.35707376e+02],\n",
       "        [-9.91360771e+01,  1.71221303e+02],\n",
       "        [-1.44017364e+02,  1.48895571e+02],\n",
       "        [-1.24992877e+02,  1.26433148e+02],\n",
       "        [ 9.01038035e+01,  1.11437808e+02],\n",
       "        [ 1.60272371e+02,  6.60453240e+01],\n",
       "        [ 2.35217443e+02,  5.91911131e+01],\n",
       "        [-1.34692890e+02,  1.12839265e+02],\n",
       "        [-8.48383261e+01,  1.34761986e+02],\n",
       "        [-1.61415720e+02,  8.51687905e+01],\n",
       "        [-8.55589213e+01, -2.02128247e+01],\n",
       "        [ 1.55625071e+02,  9.16622522e+01],\n",
       "        [-9.79376498e+01,  1.50859144e+02],\n",
       "        [-1.38718568e+01,  1.58237544e+02],\n",
       "        [-1.53699226e+02,  2.06281122e+02],\n",
       "        [ 2.26345553e+02,  2.47477789e+01],\n",
       "        [ 4.29137771e+01,  1.16759636e+02],\n",
       "        [-6.98414479e+01,  6.53017571e+01],\n",
       "        [-1.25742115e+02,  9.49558144e+01],\n",
       "        [ 1.27623619e+01, -9.13634677e+01],\n",
       "        [-5.64649030e+01,  5.06186208e+01],\n",
       "        [-1.55336591e+02,  2.36831913e+02],\n",
       "        [ 4.45063273e+01, -1.54623774e+02],\n",
       "        [-4.72114338e+01,  2.37196995e+01],\n",
       "        [ 8.55359285e+01,  9.94546072e+01],\n",
       "        [ 8.07497184e+01,  8.74869455e+01],\n",
       "        [ 7.67442337e+01,  1.20989334e+02],\n",
       "        [ 1.88869624e+02,  8.01800537e+01],\n",
       "        [-1.09818641e+02,  1.53214904e+02],\n",
       "        [-9.77241132e+01,  7.45623133e+01],\n",
       "        [-1.60135145e+02,  1.64145339e+02],\n",
       "        [-1.02042765e+02,  1.45673500e+02],\n",
       "        [ 1.84253544e+02,  7.29034520e+01],\n",
       "        [ 1.94089927e+02,  6.70046971e+01]]),\n",
       " array([0, 1, 0, 0, 0, 0, 0, 1, 0, 1, 0, 0, 0, 1, 1, 0, 0, 0, 1, 0, 1, 1,\n",
       "        0, 0, 1, 0, 1, 1, 1, 0, 1, 0, 0, 0, 1, 1, 1, 1, 1, 0, 0, 1, 0, 1,\n",
       "        1, 0, 1, 1, 1, 1, 0, 0, 0, 1, 1, 0, 1, 1, 1, 0, 1, 0, 1, 0, 0, 0,\n",
       "        1, 1, 1, 1, 0, 1, 1, 0, 0, 0, 0, 1, 1, 1, 0, 1, 1, 1, 0, 1, 0, 1,\n",
       "        0, 1, 0, 1, 1, 0, 0, 0, 1, 1, 1, 1, 0, 0, 1, 1, 1, 0, 1, 1, 1, 1,\n",
       "        1, 0, 0, 0, 0, 1, 1, 0, 1, 0, 1, 0, 0, 1, 0, 1, 1, 0, 1, 0, 1, 1,\n",
       "        1, 1, 0, 1, 1, 0, 0, 0, 0, 0, 0, 1, 0, 1, 1, 1, 1, 0, 0, 1, 0, 0,\n",
       "        1, 1, 1, 0, 0, 0, 0, 0, 0, 1, 0, 1, 1, 0, 0, 0, 0, 1, 0, 1, 1, 0,\n",
       "        1, 0, 1, 1, 0, 1, 1, 1, 1, 1, 0, 0, 1, 0, 0, 0, 1, 1, 0, 0, 1, 0,\n",
       "        0, 0, 0, 0, 1, 1, 0, 0, 1, 0, 1, 1, 0, 0, 0, 1, 1, 0, 1, 0, 1, 0,\n",
       "        0, 1, 1, 0, 1, 0, 1, 0, 1, 0, 0, 0, 1, 0, 0, 1, 0, 1, 0, 0, 0, 1,\n",
       "        1, 1, 1, 0, 0, 0, 1, 0, 1, 0, 0, 1, 0, 0, 1, 0, 1, 0, 1, 1, 0, 0,\n",
       "        0, 1, 1, 0, 1, 1, 0, 0, 0, 1, 0, 1, 1, 0, 1, 0, 1, 0, 0, 1, 1, 1,\n",
       "        1, 1, 1, 1, 0, 0, 0, 0, 1, 1, 1, 1, 0, 0]))"
      ]
     },
     "execution_count": 117,
     "metadata": {},
     "output_type": "execute_result"
    }
   ],
   "source": [
    "X, y = make_classification(n_samples=300, n_features=2, n_redundant=0, n_informative=2,\n",
    "                          random_state=22, n_clusters_per_class=1, scale=100)\n",
    "X, y\n",
    "# n_informative=2 有两个比较相关的属性\n",
    "# random_state=22 随机数种子，使每次运行结果一致"
   ]
  },
  {
   "cell_type": "code",
   "execution_count": 119,
   "metadata": {},
   "outputs": [],
   "source": [
    "X_train, X_test, y_train, y_test = train_test_split(X, y, test_size=.3)"
   ]
  },
  {
   "cell_type": "code",
   "execution_count": 120,
   "metadata": {},
   "outputs": [
    {
     "name": "stderr",
     "output_type": "stream",
     "text": [
      "E:\\Anaconda\\envs\\python3.6\\lib\\site-packages\\sklearn\\svm\\base.py:193: FutureWarning: The default value of gamma will change from 'auto' to 'scale' in version 0.22 to account better for unscaled features. Set gamma explicitly to 'auto' or 'scale' to avoid this warning.\n",
      "  \"avoid this warning.\", FutureWarning)\n"
     ]
    },
    {
     "data": {
      "text/plain": [
       "SVC(C=1.0, cache_size=200, class_weight=None, coef0=0.0,\n",
       "    decision_function_shape='ovr', degree=3, gamma='auto_deprecated',\n",
       "    kernel='rbf', max_iter=-1, probability=False, random_state=None,\n",
       "    shrinking=True, tol=0.001, verbose=False)"
      ]
     },
     "execution_count": 120,
     "metadata": {},
     "output_type": "execute_result"
    }
   ],
   "source": [
    "clf.fit(X_train, y_train)"
   ]
  },
  {
   "cell_type": "code",
   "execution_count": 121,
   "metadata": {},
   "outputs": [
    {
     "data": {
      "text/plain": [
       "0.4777777777777778"
      ]
     },
     "execution_count": 121,
     "metadata": {},
     "output_type": "execute_result"
    }
   ],
   "source": [
    "clf.score(X_test,y_test)"
   ]
  },
  {
   "cell_type": "markdown",
   "metadata": {},
   "source": [
    "#### 未归一化0.48 ==> 归一化0.89"
   ]
  },
  {
   "cell_type": "markdown",
   "metadata": {},
   "source": [
    "### 交叉验证"
   ]
  },
  {
   "cell_type": "code",
   "execution_count": 123,
   "metadata": {},
   "outputs": [],
   "source": [
    "from sklearn.datasets import load_iris\n",
    "#from sklearn.cross_validation import train_test_split\n",
    "from sklearn.model_selection import train_test_split\n",
    "from sklearn.neighbors import KNeighborsClassifier"
   ]
  },
  {
   "cell_type": "code",
   "execution_count": 124,
   "metadata": {
    "scrolled": true
   },
   "outputs": [
    {
     "data": {
      "text/plain": [
       "{'data': array([[5.1, 3.5, 1.4, 0.2],\n",
       "        [4.9, 3. , 1.4, 0.2],\n",
       "        [4.7, 3.2, 1.3, 0.2],\n",
       "        [4.6, 3.1, 1.5, 0.2],\n",
       "        [5. , 3.6, 1.4, 0.2],\n",
       "        [5.4, 3.9, 1.7, 0.4],\n",
       "        [4.6, 3.4, 1.4, 0.3],\n",
       "        [5. , 3.4, 1.5, 0.2],\n",
       "        [4.4, 2.9, 1.4, 0.2],\n",
       "        [4.9, 3.1, 1.5, 0.1],\n",
       "        [5.4, 3.7, 1.5, 0.2],\n",
       "        [4.8, 3.4, 1.6, 0.2],\n",
       "        [4.8, 3. , 1.4, 0.1],\n",
       "        [4.3, 3. , 1.1, 0.1],\n",
       "        [5.8, 4. , 1.2, 0.2],\n",
       "        [5.7, 4.4, 1.5, 0.4],\n",
       "        [5.4, 3.9, 1.3, 0.4],\n",
       "        [5.1, 3.5, 1.4, 0.3],\n",
       "        [5.7, 3.8, 1.7, 0.3],\n",
       "        [5.1, 3.8, 1.5, 0.3],\n",
       "        [5.4, 3.4, 1.7, 0.2],\n",
       "        [5.1, 3.7, 1.5, 0.4],\n",
       "        [4.6, 3.6, 1. , 0.2],\n",
       "        [5.1, 3.3, 1.7, 0.5],\n",
       "        [4.8, 3.4, 1.9, 0.2],\n",
       "        [5. , 3. , 1.6, 0.2],\n",
       "        [5. , 3.4, 1.6, 0.4],\n",
       "        [5.2, 3.5, 1.5, 0.2],\n",
       "        [5.2, 3.4, 1.4, 0.2],\n",
       "        [4.7, 3.2, 1.6, 0.2],\n",
       "        [4.8, 3.1, 1.6, 0.2],\n",
       "        [5.4, 3.4, 1.5, 0.4],\n",
       "        [5.2, 4.1, 1.5, 0.1],\n",
       "        [5.5, 4.2, 1.4, 0.2],\n",
       "        [4.9, 3.1, 1.5, 0.2],\n",
       "        [5. , 3.2, 1.2, 0.2],\n",
       "        [5.5, 3.5, 1.3, 0.2],\n",
       "        [4.9, 3.6, 1.4, 0.1],\n",
       "        [4.4, 3. , 1.3, 0.2],\n",
       "        [5.1, 3.4, 1.5, 0.2],\n",
       "        [5. , 3.5, 1.3, 0.3],\n",
       "        [4.5, 2.3, 1.3, 0.3],\n",
       "        [4.4, 3.2, 1.3, 0.2],\n",
       "        [5. , 3.5, 1.6, 0.6],\n",
       "        [5.1, 3.8, 1.9, 0.4],\n",
       "        [4.8, 3. , 1.4, 0.3],\n",
       "        [5.1, 3.8, 1.6, 0.2],\n",
       "        [4.6, 3.2, 1.4, 0.2],\n",
       "        [5.3, 3.7, 1.5, 0.2],\n",
       "        [5. , 3.3, 1.4, 0.2],\n",
       "        [7. , 3.2, 4.7, 1.4],\n",
       "        [6.4, 3.2, 4.5, 1.5],\n",
       "        [6.9, 3.1, 4.9, 1.5],\n",
       "        [5.5, 2.3, 4. , 1.3],\n",
       "        [6.5, 2.8, 4.6, 1.5],\n",
       "        [5.7, 2.8, 4.5, 1.3],\n",
       "        [6.3, 3.3, 4.7, 1.6],\n",
       "        [4.9, 2.4, 3.3, 1. ],\n",
       "        [6.6, 2.9, 4.6, 1.3],\n",
       "        [5.2, 2.7, 3.9, 1.4],\n",
       "        [5. , 2. , 3.5, 1. ],\n",
       "        [5.9, 3. , 4.2, 1.5],\n",
       "        [6. , 2.2, 4. , 1. ],\n",
       "        [6.1, 2.9, 4.7, 1.4],\n",
       "        [5.6, 2.9, 3.6, 1.3],\n",
       "        [6.7, 3.1, 4.4, 1.4],\n",
       "        [5.6, 3. , 4.5, 1.5],\n",
       "        [5.8, 2.7, 4.1, 1. ],\n",
       "        [6.2, 2.2, 4.5, 1.5],\n",
       "        [5.6, 2.5, 3.9, 1.1],\n",
       "        [5.9, 3.2, 4.8, 1.8],\n",
       "        [6.1, 2.8, 4. , 1.3],\n",
       "        [6.3, 2.5, 4.9, 1.5],\n",
       "        [6.1, 2.8, 4.7, 1.2],\n",
       "        [6.4, 2.9, 4.3, 1.3],\n",
       "        [6.6, 3. , 4.4, 1.4],\n",
       "        [6.8, 2.8, 4.8, 1.4],\n",
       "        [6.7, 3. , 5. , 1.7],\n",
       "        [6. , 2.9, 4.5, 1.5],\n",
       "        [5.7, 2.6, 3.5, 1. ],\n",
       "        [5.5, 2.4, 3.8, 1.1],\n",
       "        [5.5, 2.4, 3.7, 1. ],\n",
       "        [5.8, 2.7, 3.9, 1.2],\n",
       "        [6. , 2.7, 5.1, 1.6],\n",
       "        [5.4, 3. , 4.5, 1.5],\n",
       "        [6. , 3.4, 4.5, 1.6],\n",
       "        [6.7, 3.1, 4.7, 1.5],\n",
       "        [6.3, 2.3, 4.4, 1.3],\n",
       "        [5.6, 3. , 4.1, 1.3],\n",
       "        [5.5, 2.5, 4. , 1.3],\n",
       "        [5.5, 2.6, 4.4, 1.2],\n",
       "        [6.1, 3. , 4.6, 1.4],\n",
       "        [5.8, 2.6, 4. , 1.2],\n",
       "        [5. , 2.3, 3.3, 1. ],\n",
       "        [5.6, 2.7, 4.2, 1.3],\n",
       "        [5.7, 3. , 4.2, 1.2],\n",
       "        [5.7, 2.9, 4.2, 1.3],\n",
       "        [6.2, 2.9, 4.3, 1.3],\n",
       "        [5.1, 2.5, 3. , 1.1],\n",
       "        [5.7, 2.8, 4.1, 1.3],\n",
       "        [6.3, 3.3, 6. , 2.5],\n",
       "        [5.8, 2.7, 5.1, 1.9],\n",
       "        [7.1, 3. , 5.9, 2.1],\n",
       "        [6.3, 2.9, 5.6, 1.8],\n",
       "        [6.5, 3. , 5.8, 2.2],\n",
       "        [7.6, 3. , 6.6, 2.1],\n",
       "        [4.9, 2.5, 4.5, 1.7],\n",
       "        [7.3, 2.9, 6.3, 1.8],\n",
       "        [6.7, 2.5, 5.8, 1.8],\n",
       "        [7.2, 3.6, 6.1, 2.5],\n",
       "        [6.5, 3.2, 5.1, 2. ],\n",
       "        [6.4, 2.7, 5.3, 1.9],\n",
       "        [6.8, 3. , 5.5, 2.1],\n",
       "        [5.7, 2.5, 5. , 2. ],\n",
       "        [5.8, 2.8, 5.1, 2.4],\n",
       "        [6.4, 3.2, 5.3, 2.3],\n",
       "        [6.5, 3. , 5.5, 1.8],\n",
       "        [7.7, 3.8, 6.7, 2.2],\n",
       "        [7.7, 2.6, 6.9, 2.3],\n",
       "        [6. , 2.2, 5. , 1.5],\n",
       "        [6.9, 3.2, 5.7, 2.3],\n",
       "        [5.6, 2.8, 4.9, 2. ],\n",
       "        [7.7, 2.8, 6.7, 2. ],\n",
       "        [6.3, 2.7, 4.9, 1.8],\n",
       "        [6.7, 3.3, 5.7, 2.1],\n",
       "        [7.2, 3.2, 6. , 1.8],\n",
       "        [6.2, 2.8, 4.8, 1.8],\n",
       "        [6.1, 3. , 4.9, 1.8],\n",
       "        [6.4, 2.8, 5.6, 2.1],\n",
       "        [7.2, 3. , 5.8, 1.6],\n",
       "        [7.4, 2.8, 6.1, 1.9],\n",
       "        [7.9, 3.8, 6.4, 2. ],\n",
       "        [6.4, 2.8, 5.6, 2.2],\n",
       "        [6.3, 2.8, 5.1, 1.5],\n",
       "        [6.1, 2.6, 5.6, 1.4],\n",
       "        [7.7, 3. , 6.1, 2.3],\n",
       "        [6.3, 3.4, 5.6, 2.4],\n",
       "        [6.4, 3.1, 5.5, 1.8],\n",
       "        [6. , 3. , 4.8, 1.8],\n",
       "        [6.9, 3.1, 5.4, 2.1],\n",
       "        [6.7, 3.1, 5.6, 2.4],\n",
       "        [6.9, 3.1, 5.1, 2.3],\n",
       "        [5.8, 2.7, 5.1, 1.9],\n",
       "        [6.8, 3.2, 5.9, 2.3],\n",
       "        [6.7, 3.3, 5.7, 2.5],\n",
       "        [6.7, 3. , 5.2, 2.3],\n",
       "        [6.3, 2.5, 5. , 1.9],\n",
       "        [6.5, 3. , 5.2, 2. ],\n",
       "        [6.2, 3.4, 5.4, 2.3],\n",
       "        [5.9, 3. , 5.1, 1.8]]),\n",
       " 'target': array([0, 0, 0, 0, 0, 0, 0, 0, 0, 0, 0, 0, 0, 0, 0, 0, 0, 0, 0, 0, 0, 0,\n",
       "        0, 0, 0, 0, 0, 0, 0, 0, 0, 0, 0, 0, 0, 0, 0, 0, 0, 0, 0, 0, 0, 0,\n",
       "        0, 0, 0, 0, 0, 0, 1, 1, 1, 1, 1, 1, 1, 1, 1, 1, 1, 1, 1, 1, 1, 1,\n",
       "        1, 1, 1, 1, 1, 1, 1, 1, 1, 1, 1, 1, 1, 1, 1, 1, 1, 1, 1, 1, 1, 1,\n",
       "        1, 1, 1, 1, 1, 1, 1, 1, 1, 1, 1, 1, 2, 2, 2, 2, 2, 2, 2, 2, 2, 2,\n",
       "        2, 2, 2, 2, 2, 2, 2, 2, 2, 2, 2, 2, 2, 2, 2, 2, 2, 2, 2, 2, 2, 2,\n",
       "        2, 2, 2, 2, 2, 2, 2, 2, 2, 2, 2, 2, 2, 2, 2, 2, 2, 2]),\n",
       " 'target_names': array(['setosa', 'versicolor', 'virginica'], dtype='<U10'),\n",
       " 'DESCR': '.. _iris_dataset:\\n\\nIris plants dataset\\n--------------------\\n\\n**Data Set Characteristics:**\\n\\n    :Number of Instances: 150 (50 in each of three classes)\\n    :Number of Attributes: 4 numeric, predictive attributes and the class\\n    :Attribute Information:\\n        - sepal length in cm\\n        - sepal width in cm\\n        - petal length in cm\\n        - petal width in cm\\n        - class:\\n                - Iris-Setosa\\n                - Iris-Versicolour\\n                - Iris-Virginica\\n                \\n    :Summary Statistics:\\n\\n    ============== ==== ==== ======= ===== ====================\\n                    Min  Max   Mean    SD   Class Correlation\\n    ============== ==== ==== ======= ===== ====================\\n    sepal length:   4.3  7.9   5.84   0.83    0.7826\\n    sepal width:    2.0  4.4   3.05   0.43   -0.4194\\n    petal length:   1.0  6.9   3.76   1.76    0.9490  (high!)\\n    petal width:    0.1  2.5   1.20   0.76    0.9565  (high!)\\n    ============== ==== ==== ======= ===== ====================\\n\\n    :Missing Attribute Values: None\\n    :Class Distribution: 33.3% for each of 3 classes.\\n    :Creator: R.A. Fisher\\n    :Donor: Michael Marshall (MARSHALL%PLU@io.arc.nasa.gov)\\n    :Date: July, 1988\\n\\nThe famous Iris database, first used by Sir R.A. Fisher. The dataset is taken\\nfrom Fisher\\'s paper. Note that it\\'s the same as in R, but not as in the UCI\\nMachine Learning Repository, which has two wrong data points.\\n\\nThis is perhaps the best known database to be found in the\\npattern recognition literature.  Fisher\\'s paper is a classic in the field and\\nis referenced frequently to this day.  (See Duda & Hart, for example.)  The\\ndata set contains 3 classes of 50 instances each, where each class refers to a\\ntype of iris plant.  One class is linearly separable from the other 2; the\\nlatter are NOT linearly separable from each other.\\n\\n.. topic:: References\\n\\n   - Fisher, R.A. \"The use of multiple measurements in taxonomic problems\"\\n     Annual Eugenics, 7, Part II, 179-188 (1936); also in \"Contributions to\\n     Mathematical Statistics\" (John Wiley, NY, 1950).\\n   - Duda, R.O., & Hart, P.E. (1973) Pattern Classification and Scene Analysis.\\n     (Q327.D83) John Wiley & Sons.  ISBN 0-471-22361-1.  See page 218.\\n   - Dasarathy, B.V. (1980) \"Nosing Around the Neighborhood: A New System\\n     Structure and Classification Rule for Recognition in Partially Exposed\\n     Environments\".  IEEE Transactions on Pattern Analysis and Machine\\n     Intelligence, Vol. PAMI-2, No. 1, 67-71.\\n   - Gates, G.W. (1972) \"The Reduced Nearest Neighbor Rule\".  IEEE Transactions\\n     on Information Theory, May 1972, 431-433.\\n   - See also: 1988 MLC Proceedings, 54-64.  Cheeseman et al\"s AUTOCLASS II\\n     conceptual clustering system finds 3 classes in the data.\\n   - Many, many more ...',\n",
       " 'feature_names': ['sepal length (cm)',\n",
       "  'sepal width (cm)',\n",
       "  'petal length (cm)',\n",
       "  'petal width (cm)'],\n",
       " 'filename': 'E:\\\\Anaconda\\\\envs\\\\python3.6\\\\lib\\\\site-packages\\\\sklearn\\\\datasets\\\\data\\\\iris.csv'}"
      ]
     },
     "execution_count": 124,
     "metadata": {},
     "output_type": "execute_result"
    }
   ],
   "source": [
    "iris = load_iris()\n",
    "iris"
   ]
  },
  {
   "cell_type": "code",
   "execution_count": 125,
   "metadata": {},
   "outputs": [],
   "source": [
    "X = iris.data\n",
    "y = iris.target"
   ]
  },
  {
   "cell_type": "code",
   "execution_count": 126,
   "metadata": {
    "scrolled": true
   },
   "outputs": [
    {
     "data": {
      "text/plain": [
       "array([[6.7, 3.1, 4.7, 1.5],\n",
       "       [5.1, 3.8, 1.6, 0.2],\n",
       "       [7.7, 3. , 6.1, 2.3],\n",
       "       [5. , 3.4, 1.5, 0.2],\n",
       "       [6.7, 3.1, 4.4, 1.4],\n",
       "       [5.4, 3.7, 1.5, 0.2],\n",
       "       [6.4, 2.8, 5.6, 2.2],\n",
       "       [4.3, 3. , 1.1, 0.1],\n",
       "       [5.7, 4.4, 1.5, 0.4],\n",
       "       [5.9, 3. , 4.2, 1.5],\n",
       "       [6.1, 3. , 4.6, 1.4],\n",
       "       [6.5, 3. , 5.5, 1.8],\n",
       "       [5.2, 3.5, 1.5, 0.2],\n",
       "       [5.6, 2.5, 3.9, 1.1],\n",
       "       [7.7, 2.6, 6.9, 2.3],\n",
       "       [6.3, 3.4, 5.6, 2.4],\n",
       "       [6.2, 2.9, 4.3, 1.3],\n",
       "       [5.7, 2.9, 4.2, 1.3],\n",
       "       [5. , 3.5, 1.6, 0.6],\n",
       "       [5.6, 2.9, 3.6, 1.3],\n",
       "       [6. , 2.2, 5. , 1.5],\n",
       "       [5.5, 2.6, 4.4, 1.2],\n",
       "       [4.6, 3.4, 1.4, 0.3],\n",
       "       [5.6, 3. , 4.1, 1.3],\n",
       "       [5.1, 3.4, 1.5, 0.2],\n",
       "       [6.4, 2.9, 4.3, 1.3],\n",
       "       [6.8, 3. , 5.5, 2.1],\n",
       "       [6.7, 3. , 5. , 1.7],\n",
       "       [6.5, 3.2, 5.1, 2. ],\n",
       "       [6. , 3.4, 4.5, 1.6],\n",
       "       [4.9, 3.1, 1.5, 0.1],\n",
       "       [4.9, 2.5, 4.5, 1.7],\n",
       "       [6.9, 3.2, 5.7, 2.3],\n",
       "       [5.4, 3.4, 1.5, 0.4],\n",
       "       [5.5, 2.4, 3.8, 1.1],\n",
       "       [6.3, 3.3, 6. , 2.5],\n",
       "       [5. , 3.6, 1.4, 0.2],\n",
       "       [6.1, 3. , 4.9, 1.8],\n",
       "       [6.5, 2.8, 4.6, 1.5],\n",
       "       [5.9, 3. , 5.1, 1.8],\n",
       "       [6.3, 2.5, 4.9, 1.5],\n",
       "       [4.9, 3.6, 1.4, 0.1],\n",
       "       [6.1, 2.6, 5.6, 1.4],\n",
       "       [6.4, 3.2, 4.5, 1.5],\n",
       "       [7.1, 3. , 5.9, 2.1],\n",
       "       [5.5, 3.5, 1.3, 0.2],\n",
       "       [6.4, 2.7, 5.3, 1.9],\n",
       "       [5.5, 2.3, 4. , 1.3],\n",
       "       [6.9, 3.1, 5.4, 2.1],\n",
       "       [5.8, 2.7, 3.9, 1.2],\n",
       "       [5.8, 2.7, 5.1, 1.9],\n",
       "       [6.1, 2.8, 4. , 1.3],\n",
       "       [5.9, 3.2, 4.8, 1.8],\n",
       "       [6.2, 3.4, 5.4, 2.3],\n",
       "       [5.7, 2.8, 4.1, 1.3],\n",
       "       [6.6, 3. , 4.4, 1.4],\n",
       "       [5.8, 2.8, 5.1, 2.4],\n",
       "       [6. , 2.2, 4. , 1. ],\n",
       "       [5.8, 2.7, 4.1, 1. ],\n",
       "       [4.6, 3.6, 1. , 0.2],\n",
       "       [6.7, 3.1, 5.6, 2.4],\n",
       "       [5.1, 3.3, 1.7, 0.5],\n",
       "       [6.8, 2.8, 4.8, 1.4],\n",
       "       [5.3, 3.7, 1.5, 0.2],\n",
       "       [5.2, 2.7, 3.9, 1.4],\n",
       "       [6.1, 2.8, 4.7, 1.2],\n",
       "       [5.5, 2.5, 4. , 1.3],\n",
       "       [5.5, 2.4, 3.7, 1. ],\n",
       "       [5.1, 3.5, 1.4, 0.3],\n",
       "       [6.7, 3. , 5.2, 2.3],\n",
       "       [6. , 3. , 4.8, 1.8],\n",
       "       [5.7, 3. , 4.2, 1.2],\n",
       "       [5.1, 2.5, 3. , 1.1],\n",
       "       [5.7, 2.6, 3.5, 1. ],\n",
       "       [4.6, 3.1, 1.5, 0.2],\n",
       "       [5.2, 3.4, 1.4, 0.2],\n",
       "       [6.9, 3.1, 5.1, 2.3],\n",
       "       [5.6, 2.8, 4.9, 2. ],\n",
       "       [5.5, 4.2, 1.4, 0.2],\n",
       "       [4.8, 3. , 1.4, 0.3],\n",
       "       [4.4, 3.2, 1.3, 0.2],\n",
       "       [6.4, 3.2, 5.3, 2.3],\n",
       "       [5. , 3.5, 1.3, 0.3],\n",
       "       [5.2, 4.1, 1.5, 0.1],\n",
       "       [6.3, 2.5, 5. , 1.9],\n",
       "       [6.8, 3.2, 5.9, 2.3],\n",
       "       [5.6, 3. , 4.5, 1.5],\n",
       "       [5. , 3.3, 1.4, 0.2],\n",
       "       [4.4, 2.9, 1.4, 0.2],\n",
       "       [4.8, 3.1, 1.6, 0.2],\n",
       "       [7.7, 3.8, 6.7, 2.2],\n",
       "       [6.3, 3.3, 4.7, 1.6],\n",
       "       [5.1, 3.7, 1.5, 0.4],\n",
       "       [5.1, 3.5, 1.4, 0.2],\n",
       "       [7.9, 3.8, 6.4, 2. ],\n",
       "       [6.9, 3.1, 4.9, 1.5],\n",
       "       [6.2, 2.8, 4.8, 1.8],\n",
       "       [4.4, 3. , 1.3, 0.2],\n",
       "       [5.1, 3.8, 1.9, 0.4],\n",
       "       [6.5, 3. , 5.2, 2. ],\n",
       "       [4.9, 2.4, 3.3, 1. ],\n",
       "       [5.7, 2.8, 4.5, 1.3],\n",
       "       [5.6, 2.7, 4.2, 1.3],\n",
       "       [7.2, 3.6, 6.1, 2.5],\n",
       "       [6.3, 2.9, 5.6, 1.8],\n",
       "       [6.6, 2.9, 4.6, 1.3],\n",
       "       [6.4, 3.1, 5.5, 1.8],\n",
       "       [7. , 3.2, 4.7, 1.4],\n",
       "       [6.3, 2.3, 4.4, 1.3],\n",
       "       [6.5, 3. , 5.8, 2.2],\n",
       "       [7.2, 3. , 5.8, 1.6],\n",
       "       [7.7, 2.8, 6.7, 2. ]])"
      ]
     },
     "execution_count": 126,
     "metadata": {},
     "output_type": "execute_result"
    }
   ],
   "source": [
    "X_train, X_test, y_train, y_test = train_test_split(X, y, random_state=4)\n",
    "X_train"
   ]
  },
  {
   "cell_type": "code",
   "execution_count": 128,
   "metadata": {},
   "outputs": [
    {
     "data": {
      "text/plain": [
       "KNeighborsClassifier(algorithm='auto', leaf_size=30, metric='minkowski',\n",
       "                     metric_params=None, n_jobs=None, n_neighbors=5, p=2,\n",
       "                     weights='uniform')"
      ]
     },
     "execution_count": 128,
     "metadata": {},
     "output_type": "execute_result"
    }
   ],
   "source": [
    "knn = KNeighborsClassifier(n_neighbors=5)\n",
    "knn"
   ]
  },
  {
   "cell_type": "code",
   "execution_count": 129,
   "metadata": {},
   "outputs": [
    {
     "data": {
      "text/plain": [
       "KNeighborsClassifier(algorithm='auto', leaf_size=30, metric='minkowski',\n",
       "                     metric_params=None, n_jobs=None, n_neighbors=5, p=2,\n",
       "                     weights='uniform')"
      ]
     },
     "execution_count": 129,
     "metadata": {},
     "output_type": "execute_result"
    }
   ],
   "source": [
    "knn.fit(X_train, y_train)"
   ]
  },
  {
   "cell_type": "code",
   "execution_count": 130,
   "metadata": {},
   "outputs": [
    {
     "data": {
      "text/plain": [
       "array([2, 0, 2, 2, 2, 1, 2, 0, 0, 2, 0, 0, 0, 1, 2, 0, 1, 0, 0, 2, 0, 2,\n",
       "       1, 0, 0, 0, 0, 0, 0, 2, 1, 0, 2, 0, 1, 2, 2, 1])"
      ]
     },
     "execution_count": 130,
     "metadata": {},
     "output_type": "execute_result"
    }
   ],
   "source": [
    "y_pred = knn.predict(X_test)\n",
    "y_pred"
   ]
  },
  {
   "cell_type": "code",
   "execution_count": 131,
   "metadata": {},
   "outputs": [
    {
     "data": {
      "text/plain": [
       "0.9736842105263158"
      ]
     },
     "execution_count": 131,
     "metadata": {},
     "output_type": "execute_result"
    }
   ],
   "source": [
    "knn.score(X_test,y_test)"
   ]
  },
  {
   "cell_type": "code",
   "execution_count": 133,
   "metadata": {},
   "outputs": [],
   "source": [
    "from sklearn.model_selection import cross_val_score"
   ]
  },
  {
   "cell_type": "code",
   "execution_count": 135,
   "metadata": {},
   "outputs": [
    {
     "data": {
      "text/plain": [
       "array([0.96666667, 1.        , 0.93333333, 0.96666667, 1.        ])"
      ]
     },
     "execution_count": 135,
     "metadata": {},
     "output_type": "execute_result"
    }
   ],
   "source": [
    "scores = cross_val_score(knn,X,y,cv=5,scoring='accuracy')\n",
    "scores"
   ]
  },
  {
   "cell_type": "code",
   "execution_count": 136,
   "metadata": {},
   "outputs": [
    {
     "data": {
      "text/plain": [
       "0.9733333333333334"
      ]
     },
     "execution_count": 136,
     "metadata": {},
     "output_type": "execute_result"
    }
   ],
   "source": [
    "scores.mean()"
   ]
  },
  {
   "cell_type": "markdown",
   "metadata": {},
   "source": [
    "#### 可视化"
   ]
  },
  {
   "cell_type": "code",
   "execution_count": 139,
   "metadata": {},
   "outputs": [],
   "source": [
    "from sklearn.model_selection import cross_val_score\n",
    "import matplotlib.pyplot as plt"
   ]
  },
  {
   "cell_type": "code",
   "execution_count": 163,
   "metadata": {},
   "outputs": [],
   "source": [
    "k_range = range(1,31)\n",
    "k_scores = []\n",
    "k_loss=[]"
   ]
  },
  {
   "cell_type": "code",
   "execution_count": 164,
   "metadata": {
    "scrolled": true
   },
   "outputs": [],
   "source": [
    "for k in k_range:\n",
    "    knn = KNeighborsClassifier(n_neighbors=k)\n",
    "    loss = -cross_val_score(knn,X,y,cv=10,scoring='neg_mean_squared_error') # for regression\n",
    "    scores = cross_val_score(knn,X,y,cv=10,scoring='accuracy') # for classification\n",
    "    k_scores.append(scores.mean())\n",
    "    k_loss.append(loss.mean())"
   ]
  },
  {
   "cell_type": "code",
   "execution_count": 161,
   "metadata": {},
   "outputs": [
    {
     "data": {
      "text/plain": [
       "array([0.06666667, 0.06666667, 0.        , 0.06666667, 0.        ,\n",
       "       0.13333333, 0.06666667, 0.06666667, 0.        , 0.        ])"
      ]
     },
     "execution_count": 161,
     "metadata": {},
     "output_type": "execute_result"
    }
   ],
   "source": [
    "loss"
   ]
  },
  {
   "cell_type": "code",
   "execution_count": 153,
   "metadata": {},
   "outputs": [
    {
     "data": {
      "text/plain": [
       "(30,)"
      ]
     },
     "execution_count": 153,
     "metadata": {},
     "output_type": "execute_result"
    }
   ],
   "source": [
    "np.shape(k_scores)"
   ]
  },
  {
   "cell_type": "code",
   "execution_count": 152,
   "metadata": {},
   "outputs": [
    {
     "data": {
      "text/plain": [
       "(30,)"
      ]
     },
     "execution_count": 152,
     "metadata": {},
     "output_type": "execute_result"
    }
   ],
   "source": [
    "np.shape(k_range)"
   ]
  },
  {
   "cell_type": "code",
   "execution_count": 148,
   "metadata": {},
   "outputs": [
    {
     "data": {
      "text/plain": [
       "(range(1, 31),\n",
       " [0.96,\n",
       "  0.9533333333333334,\n",
       "  0.9666666666666666,\n",
       "  0.9666666666666666,\n",
       "  0.9666666666666668,\n",
       "  0.9666666666666668,\n",
       "  0.9666666666666668,\n",
       "  0.9666666666666668,\n",
       "  0.9733333333333334,\n",
       "  0.9666666666666668,\n",
       "  0.9666666666666668,\n",
       "  0.9733333333333334,\n",
       "  0.9800000000000001,\n",
       "  0.9733333333333334,\n",
       "  0.9733333333333334,\n",
       "  0.9733333333333334,\n",
       "  0.9733333333333334,\n",
       "  0.9800000000000001,\n",
       "  0.9733333333333334,\n",
       "  0.9800000000000001,\n",
       "  0.9666666666666666,\n",
       "  0.9666666666666666,\n",
       "  0.9733333333333334,\n",
       "  0.96,\n",
       "  0.9666666666666666,\n",
       "  0.96,\n",
       "  0.9666666666666666,\n",
       "  0.9533333333333334,\n",
       "  0.9533333333333334,\n",
       "  0.9533333333333334,\n",
       "  0.96,\n",
       "  0.9533333333333334,\n",
       "  0.9666666666666666,\n",
       "  0.9666666666666666,\n",
       "  0.9666666666666668,\n",
       "  0.9666666666666668,\n",
       "  0.9666666666666668,\n",
       "  0.9666666666666668,\n",
       "  0.9733333333333334,\n",
       "  0.9666666666666668,\n",
       "  0.9666666666666668,\n",
       "  0.9733333333333334,\n",
       "  0.9800000000000001,\n",
       "  0.9733333333333334,\n",
       "  0.9733333333333334,\n",
       "  0.9733333333333334,\n",
       "  0.9733333333333334,\n",
       "  0.9800000000000001,\n",
       "  0.9733333333333334,\n",
       "  0.9800000000000001,\n",
       "  0.9666666666666666,\n",
       "  0.9666666666666666,\n",
       "  0.9733333333333334,\n",
       "  0.96,\n",
       "  0.9666666666666666,\n",
       "  0.96,\n",
       "  0.9666666666666666,\n",
       "  0.9533333333333334,\n",
       "  0.9533333333333334,\n",
       "  0.9533333333333334,\n",
       "  0.96,\n",
       "  0.9533333333333334,\n",
       "  0.9666666666666666,\n",
       "  0.9666666666666666,\n",
       "  0.9666666666666668,\n",
       "  0.9666666666666668,\n",
       "  0.9666666666666668,\n",
       "  0.9666666666666668,\n",
       "  0.9733333333333334,\n",
       "  0.9666666666666668,\n",
       "  0.9666666666666668,\n",
       "  0.9733333333333334,\n",
       "  0.9800000000000001,\n",
       "  0.9733333333333334,\n",
       "  0.9733333333333334,\n",
       "  0.9733333333333334,\n",
       "  0.9733333333333334,\n",
       "  0.9800000000000001,\n",
       "  0.9733333333333334,\n",
       "  0.9800000000000001,\n",
       "  0.9666666666666666,\n",
       "  0.9666666666666666,\n",
       "  0.9733333333333334,\n",
       "  0.96,\n",
       "  0.9666666666666666,\n",
       "  0.96,\n",
       "  0.9666666666666666,\n",
       "  0.9533333333333334,\n",
       "  0.9533333333333334,\n",
       "  0.9533333333333334,\n",
       "  0.96,\n",
       "  0.9533333333333334,\n",
       "  0.9666666666666666,\n",
       "  0.9666666666666666,\n",
       "  0.9666666666666668,\n",
       "  0.9666666666666668,\n",
       "  0.9666666666666668,\n",
       "  0.9666666666666668,\n",
       "  0.9733333333333334,\n",
       "  0.9666666666666668,\n",
       "  0.9666666666666668,\n",
       "  0.9733333333333334,\n",
       "  0.9800000000000001,\n",
       "  0.9733333333333334,\n",
       "  0.9733333333333334,\n",
       "  0.9733333333333334,\n",
       "  0.9733333333333334,\n",
       "  0.9800000000000001,\n",
       "  0.9733333333333334,\n",
       "  0.9800000000000001,\n",
       "  0.9666666666666666,\n",
       "  0.9666666666666666,\n",
       "  0.9733333333333334,\n",
       "  0.96,\n",
       "  0.9666666666666666,\n",
       "  0.96,\n",
       "  0.9666666666666666,\n",
       "  0.9533333333333334,\n",
       "  0.9533333333333334,\n",
       "  0.9533333333333334,\n",
       "  0.96,\n",
       "  0.9533333333333334,\n",
       "  0.9666666666666666,\n",
       "  0.9666666666666666,\n",
       "  0.9666666666666668,\n",
       "  0.9666666666666668,\n",
       "  0.9666666666666668,\n",
       "  0.9666666666666668,\n",
       "  0.9733333333333334,\n",
       "  0.9666666666666668,\n",
       "  0.9666666666666668,\n",
       "  0.9733333333333334,\n",
       "  0.9800000000000001,\n",
       "  0.9733333333333334,\n",
       "  0.9733333333333334,\n",
       "  0.9733333333333334,\n",
       "  0.9733333333333334,\n",
       "  0.9800000000000001,\n",
       "  0.9733333333333334,\n",
       "  0.9800000000000001,\n",
       "  0.9666666666666666,\n",
       "  0.9666666666666666,\n",
       "  0.9733333333333334,\n",
       "  0.96,\n",
       "  0.9666666666666666,\n",
       "  0.96,\n",
       "  0.9666666666666666,\n",
       "  0.9533333333333334,\n",
       "  0.9533333333333334,\n",
       "  0.9533333333333334,\n",
       "  0.96,\n",
       "  0.9533333333333334,\n",
       "  0.9666666666666666,\n",
       "  0.9666666666666666,\n",
       "  0.9666666666666668,\n",
       "  0.9666666666666668,\n",
       "  0.9666666666666668,\n",
       "  0.9666666666666668,\n",
       "  0.9733333333333334,\n",
       "  0.9666666666666668,\n",
       "  0.9666666666666668,\n",
       "  0.9733333333333334,\n",
       "  0.9800000000000001,\n",
       "  0.9733333333333334,\n",
       "  0.9733333333333334,\n",
       "  0.9733333333333334,\n",
       "  0.9733333333333334,\n",
       "  0.9800000000000001,\n",
       "  0.9733333333333334,\n",
       "  0.9800000000000001,\n",
       "  0.9666666666666666,\n",
       "  0.9666666666666666,\n",
       "  0.9733333333333334,\n",
       "  0.96,\n",
       "  0.9666666666666666,\n",
       "  0.96,\n",
       "  0.9666666666666666,\n",
       "  0.9533333333333334,\n",
       "  0.9533333333333334,\n",
       "  0.9533333333333334,\n",
       "  0.96,\n",
       "  0.9533333333333334,\n",
       "  0.9666666666666666,\n",
       "  0.9666666666666666,\n",
       "  0.9666666666666668,\n",
       "  0.9666666666666668,\n",
       "  0.9666666666666668,\n",
       "  0.9666666666666668,\n",
       "  0.9733333333333334,\n",
       "  0.9666666666666668,\n",
       "  0.9666666666666668,\n",
       "  0.9733333333333334,\n",
       "  0.9800000000000001,\n",
       "  0.9733333333333334,\n",
       "  0.9733333333333334,\n",
       "  0.9733333333333334,\n",
       "  0.9733333333333334,\n",
       "  0.9800000000000001,\n",
       "  0.9733333333333334,\n",
       "  0.9800000000000001,\n",
       "  0.9666666666666666,\n",
       "  0.9666666666666666,\n",
       "  0.9733333333333334,\n",
       "  0.96,\n",
       "  0.9666666666666666,\n",
       "  0.96,\n",
       "  0.9666666666666666,\n",
       "  0.9533333333333334,\n",
       "  0.9533333333333334,\n",
       "  0.9533333333333334])"
      ]
     },
     "execution_count": 148,
     "metadata": {},
     "output_type": "execute_result"
    }
   ],
   "source": [
    "k_range,k_scores"
   ]
  },
  {
   "cell_type": "code",
   "execution_count": 165,
   "metadata": {
    "scrolled": true
   },
   "outputs": [
    {
     "data": {
      "image/png": "[encoded data removed]",
      "text/plain": [
       "<Figure size 432x288 with 1 Axes>"
      ]
     },
     "metadata": {
      "needs_background": "light"
     },
     "output_type": "display_data"
    }
   ],
   "source": [
    "plt.plot(k_range,k_scores)\n",
    "plt.xlabel('Value of K for KNN')\n",
    "plt.ylabel('Cross-Validated Accuracy')\n",
    "plt.show()"
   ]
  },
  {
   "cell_type": "markdown",
   "metadata": {},
   "source": [
    "#### 回归比 neg_mean_squared_error 要比 accuracy 好"
   ]
  },
  {
   "cell_type": "code",
   "execution_count": 167,
   "metadata": {},
   "outputs": [
    {
     "data": {
      "image/png": "[encoded data removed]",
      "text/plain": [
       "<Figure size 432x288 with 1 Axes>"
      ]
     },
     "metadata": {
      "needs_background": "light"
     },
     "output_type": "display_data"
    }
   ],
   "source": [
    "plt.plot(k_range,k_loss)\n",
    "plt.xlabel('Value of K for KNN')\n",
    "plt.ylabel('Cross-Validated neg_mean_squared_error')\n",
    "plt.show()"
   ]
  },
  {
   "cell_type": "markdown",
   "metadata": {},
   "source": [
    "## 结果可视化"
   ]
  },
  {
   "cell_type": "code",
   "execution_count": 168,
   "metadata": {},
   "outputs": [],
   "source": [
    "from sklearn.model_selection import learning_curve\n",
    "from sklearn.datasets import load_digits\n",
    "from sklearn.svm import SVC\n",
    "import matplotlib.pyplot as plt\n",
    "import numpy as np"
   ]
  },
  {
   "cell_type": "code",
   "execution_count": 170,
   "metadata": {
    "scrolled": true
   },
   "outputs": [
    {
     "data": {
      "text/plain": [
       "(array([ 161,  403,  806, 1209, 1612]),\n",
       " array([[-0.        , -0.09937888, -0.09937888, -0.09937888, -0.09937888,\n",
       "         -0.09937888, -0.09937888, -0.09937888, -0.09937888, -0.09937888],\n",
       "        [-0.        , -0.03970223, -0.03970223, -0.03970223, -0.03970223,\n",
       "         -0.03970223, -0.03970223, -0.03970223, -0.03970223, -0.03970223],\n",
       "        [-0.        , -0.01985112, -0.01985112, -0.01985112, -0.01985112,\n",
       "         -0.01985112, -0.01985112, -0.01985112, -0.01985112, -0.01985112],\n",
       "        [-0.        , -0.0165426 , -0.01323408, -0.01323408, -0.01323408,\n",
       "         -0.01323408, -0.01323408, -0.01323408, -0.01323408, -0.01323408],\n",
       "        [-0.02233251, -0.03225806, -0.01054591, -0.03225806, -0.03225806,\n",
       "         -0.03225806, -0.03225806, -0.03225806, -0.03225806, -0.00992556]]),\n",
       " array([[-9.94594595e-01, -1.77049180e+00, -4.19337017e+00,\n",
       "         -9.39444444e+00, -6.99441341e+00, -5.26815642e+00,\n",
       "         -3.31843575e+00, -4.73033708e+00, -3.66101695e+00,\n",
       "         -4.79545455e+00],\n",
       "        [-1.89729730e+00, -2.14207650e+00, -1.20994475e+00,\n",
       "         -3.12222222e+00, -2.10055866e+00, -2.58659218e+00,\n",
       "         -8.43575419e-01, -1.95505618e+00, -6.89265537e-01,\n",
       "         -1.23295455e+00],\n",
       "        [-1.47027027e+00, -3.55191257e-01, -5.08287293e-01,\n",
       "         -1.11111111e-02, -8.93854749e-01, -5.92178771e-01,\n",
       "         -1.22905028e-01, -9.21348315e-01, -7.85310734e-01,\n",
       "         -1.16477273e+00],\n",
       "        [-1.18918919e+00, -3.55191257e-01, -4.41988950e-01,\n",
       "         -1.11111111e-02, -1.03910615e+00, -2.68156425e-01,\n",
       "         -8.93854749e-02, -1.12359551e-02, -7.90960452e-01,\n",
       "         -9.09090909e-01],\n",
       "        [-9.08108108e-01, -0.00000000e+00, -2.65193370e-01,\n",
       "         -5.55555556e-03, -5.53072626e-01, -3.63128492e-01,\n",
       "         -8.93854749e-02, -5.61797753e-03, -9.32203390e-01,\n",
       "         -7.15909091e-01]]))"
      ]
     },
     "execution_count": 170,
     "metadata": {},
     "output_type": "execute_result"
    }
   ],
   "source": [
    "digits = load_digits()\n",
    "X = digits.data\n",
    "y = digits.target\n",
    "train_sizes, train_loss, test_loss = learning_curve(\n",
    "    SVC(gamma=0.001),X,y,cv=10,scoring='neg_mean_squared_error',\n",
    "    train_sizes=[0.1,0.25,0.5,0.75,1])\n",
    "train_sizes, train_loss, test_loss"
   ]
  },
  {
   "cell_type": "code",
   "execution_count": 171,
   "metadata": {},
   "outputs": [
    {
     "data": {
      "text/plain": [
       "((5,), (5, 10), (5, 10))"
      ]
     },
     "execution_count": 171,
     "metadata": {},
     "output_type": "execute_result"
    }
   ],
   "source": [
    "np.shape(train_sizes),np.shape(train_loss),np.shape(test_loss)"
   ]
  },
  {
   "cell_type": "code",
   "execution_count": 173,
   "metadata": {},
   "outputs": [
    {
     "data": {
      "text/plain": [
       "(array([0.08944099, 0.03573201, 0.017866  , 0.01224152, 0.02686104]),\n",
       " array([4.51207152, 1.77795433, 0.68252303, 0.51054159, 0.38381741]))"
      ]
     },
     "execution_count": 173,
     "metadata": {},
     "output_type": "execute_result"
    }
   ],
   "source": [
    "train_loss_mean = -np.mean(train_loss,axis=1)\n",
    "test_loss_mean = -np.mean(test_loss,axis=1)\n",
    "train_loss_mean,test_loss_mean"
   ]
  },
  {
   "cell_type": "code",
   "execution_count": 174,
   "metadata": {},
   "outputs": [
    {
     "data": {
      "text/plain": [
       "[<matplotlib.lines.Line2D at 0x255e89a4518>]"
      ]
     },
     "execution_count": 174,
     "metadata": {},
     "output_type": "execute_result"
    },
    {
     "data": {
      "image/png": "[encoded data removed]",
      "text/plain": [
       "<Figure size 432x288 with 1 Axes>"
      ]
     },
     "metadata": {
      "needs_background": "light"
     },
     "output_type": "display_data"
    }
   ],
   "source": [
    "plt.plot(train_sizes,train_loss_mean,'o-',color=\"r\",label=\"Training\")"
   ]
  },
  {
   "cell_type": "code",
   "execution_count": 175,
   "metadata": {},
   "outputs": [
    {
     "data": {
      "text/plain": [
       "[<matplotlib.lines.Line2D at 0x255e86a03c8>]"
      ]
     },
     "execution_count": 175,
     "metadata": {},
     "output_type": "execute_result"
    },
    {
     "data": {
      "image/png": "[encoded data removed]",
      "text/plain": [
       "<Figure size 432x288 with 1 Axes>"
      ]
     },
     "metadata": {
      "needs_background": "light"
     },
     "output_type": "display_data"
    }
   ],
   "source": [
    "plt.plot(train_sizes,test_loss_mean,'o-',color=\"g\",label=\"Cross-validation\")"
   ]
  },
  {
   "cell_type": "markdown",
   "metadata": {},
   "source": [
    "## learning-curve 是训练到10%，25%，50%，75%，100%各个时间点，训练集和测试集的Loss"
   ]
  },
  {
   "cell_type": "code",
   "execution_count": 176,
   "metadata": {},
   "outputs": [
    {
     "data": {
      "image/png": "[encoded data removed]",
      "text/plain": [
       "<Figure size 432x288 with 1 Axes>"
      ]
     },
     "metadata": {
      "needs_background": "light"
     },
     "output_type": "display_data"
    }
   ],
   "source": [
    "plt.plot(train_sizes,train_loss_mean,'o-',color=\"r\",label=\"Training\")\n",
    "plt.plot(train_sizes,test_loss_mean,'o-',color=\"g\",label=\"Cross-validation\")\n",
    "plt.xlabel(\"Training examples\")\n",
    "plt.ylabel(\"Loss\")\n",
    "plt.legend(loc=\"best\")\n",
    "plt.show()"
   ]
  },
  {
   "cell_type": "markdown",
   "metadata": {},
   "source": [
    "## 过拟合"
   ]
  },
  {
   "cell_type": "code",
   "execution_count": 178,
   "metadata": {},
   "outputs": [],
   "source": [
    "from sklearn.model_selection import validation_curve\n",
    "from sklearn.datasets import load_digits\n",
    "from sklearn.svm import SVC\n",
    "import matplotlib.pyplot as plt\n",
    "import numpy as np"
   ]
  },
  {
   "cell_type": "code",
   "execution_count": 187,
   "metadata": {},
   "outputs": [],
   "source": [
    "digits = load_digits()\n",
    "X = digits.data\n",
    "y = digits.target\n",
    "gamma_range = np.logspace(-6,-2.3,5)# -6 到-2.3中取 5个点\n",
    "train_loss, test_loss = validation_curve(\n",
    "    SVC(),X,y,param_name='gamma',param_range=gamma_range,cv=10,scoring='neg_mean_squared_error',\n",
    ")"
   ]
  },
  {
   "cell_type": "code",
   "execution_count": 188,
   "metadata": {},
   "outputs": [],
   "source": [
    "train_loss_mean = -np.mean(train_loss,axis=1)\n",
    "test_loss_mean = -np.mean(test_loss,axis=1)"
   ]
  },
  {
   "cell_type": "markdown",
   "metadata": {},
   "source": [
    "## 选取不同的模型参数，如gamma，绘制每个gamma对应的训练集和测试集的Loss"
   ]
  },
  {
   "cell_type": "code",
   "execution_count": 189,
   "metadata": {},
   "outputs": [
    {
     "data": {
      "image/png": "[encoded data removed]",
      "text/plain": [
       "<Figure size 432x288 with 1 Axes>"
      ]
     },
     "metadata": {
      "needs_background": "light"
     },
     "output_type": "display_data"
    }
   ],
   "source": [
    "plt.plot(gamma_range,train_loss_mean,'o-',color=\"r\",label=\"Training\")\n",
    "plt.plot(gamma_range,test_loss_mean,'o-',color=\"g\",label=\"Cross-validation\")\n",
    "plt.xlabel(\"gamma\")\n",
    "plt.ylabel(\"Loss\")\n",
    "plt.legend(loc=\"best\")\n",
    "plt.show()"
   ]
  },
  {
   "cell_type": "markdown",
   "metadata": {},
   "source": [
    "### 保存model"
   ]
  },
  {
   "cell_type": "code",
   "execution_count": 190,
   "metadata": {},
   "outputs": [],
   "source": [
    "from sklearn import svm\n",
    "from sklearn import datasets"
   ]
  },
  {
   "cell_type": "code",
   "execution_count": 191,
   "metadata": {},
   "outputs": [
    {
     "name": "stderr",
     "output_type": "stream",
     "text": [
      "E:\\Anaconda\\envs\\python3.6\\lib\\site-packages\\sklearn\\svm\\base.py:193: FutureWarning: The default value of gamma will change from 'auto' to 'scale' in version 0.22 to account better for unscaled features. Set gamma explicitly to 'auto' or 'scale' to avoid this warning.\n",
      "  \"avoid this warning.\", FutureWarning)\n"
     ]
    },
    {
     "data": {
      "text/plain": [
       "SVC(C=1.0, cache_size=200, class_weight=None, coef0=0.0,\n",
       "    decision_function_shape='ovr', degree=3, gamma='auto_deprecated',\n",
       "    kernel='rbf', max_iter=-1, probability=False, random_state=None,\n",
       "    shrinking=True, tol=0.001, verbose=False)"
      ]
     },
     "execution_count": 191,
     "metadata": {},
     "output_type": "execute_result"
    }
   ],
   "source": [
    "clf = svm.SVC()\n",
    "iris = datasets.load_iris()\n",
    "X,y = iris.data,iris.target\n",
    "clf.fit(X,y)"
   ]
  },
  {
   "cell_type": "markdown",
   "metadata": {},
   "source": [
    "#### method 1:pickle"
   ]
  },
  {
   "cell_type": "code",
   "execution_count": 192,
   "metadata": {},
   "outputs": [],
   "source": [
    "import pickle"
   ]
  },
  {
   "cell_type": "markdown",
   "metadata": {},
   "source": [
    "#### 保存"
   ]
  },
  {
   "cell_type": "code",
   "execution_count": 194,
   "metadata": {},
   "outputs": [],
   "source": [
    "with open('save/clf.pickle','wb') as f:\n",
    "    pickle.dump(clf,f)"
   ]
  },
  {
   "cell_type": "markdown",
   "metadata": {},
   "source": [
    "#### 导出"
   ]
  },
  {
   "cell_type": "code",
   "execution_count": 195,
   "metadata": {},
   "outputs": [
    {
     "name": "stdout",
     "output_type": "stream",
     "text": [
      "[0]\n"
     ]
    }
   ],
   "source": [
    "with open('save/clf.pickle','rb') as f:\n",
    "    df2 = pickle.load(f)\n",
    "    print(df2.predict(X[0:1]))"
   ]
  },
  {
   "cell_type": "markdown",
   "metadata": {},
   "source": [
    "#### method 2: joblib"
   ]
  },
  {
   "cell_type": "code",
   "execution_count": 196,
   "metadata": {},
   "outputs": [
    {
     "name": "stderr",
     "output_type": "stream",
     "text": [
      "E:\\Anaconda\\envs\\python3.6\\lib\\site-packages\\sklearn\\externals\\joblib\\__init__.py:15: DeprecationWarning: sklearn.externals.joblib is deprecated in 0.21 and will be removed in 0.23. Please import this functionality directly from joblib, which can be installed with: pip install joblib. If this warning is raised when loading pickled models, you may need to re-serialize those models with scikit-learn 0.21+.\n",
      "  warnings.warn(msg, category=DeprecationWarning)\n"
     ]
    }
   ],
   "source": [
    "from sklearn.externals import joblib"
   ]
  },
  {
   "cell_type": "code",
   "execution_count": 197,
   "metadata": {},
   "outputs": [
    {
     "data": {
      "text/plain": [
       "['save/clf.pkl']"
      ]
     },
     "execution_count": 197,
     "metadata": {},
     "output_type": "execute_result"
    }
   ],
   "source": [
    "# save\n",
    "joblib.dump(clf,'save/clf.pkl')"
   ]
  },
  {
   "cell_type": "code",
   "execution_count": 198,
   "metadata": {},
   "outputs": [
    {
     "name": "stdout",
     "output_type": "stream",
     "text": [
      "[0]\n"
     ]
    }
   ],
   "source": [
    "#restore\n",
    "clf3 = joblib.load('save/clf.pkl')\n",
    "print(clf3.predict(X[0:1]))"
   ]
  },
  {
   "cell_type": "code",
   "execution_count": null,
   "metadata": {},
   "outputs": [],
   "source": []
  },
  {
   "cell_type": "code",
   "execution_count": null,
   "metadata": {},
   "outputs": [],
   "source": []
  },
  {
   "cell_type": "code",
   "execution_count": null,
   "metadata": {},
   "outputs": [],
   "source": []
  },
  {
   "cell_type": "code",
   "execution_count": null,
   "metadata": {},
   "outputs": [],
   "source": []
  },
  {
   "cell_type": "code",
   "execution_count": null,
   "metadata": {},
   "outputs": [],
   "source": []
  },
  {
   "cell_type": "code",
   "execution_count": null,
   "metadata": {},
   "outputs": [],
   "source": []
  },
  {
   "cell_type": "code",
   "execution_count": null,
   "metadata": {},
   "outputs": [],
   "source": []
  },
  {
   "cell_type": "code",
   "execution_count": null,
   "metadata": {},
   "outputs": [],
   "source": []
  },
  {
   "cell_type": "code",
   "execution_count": null,
   "metadata": {},
   "outputs": [],
   "source": []
  },
  {
   "cell_type": "code",
   "execution_count": null,
   "metadata": {},
   "outputs": [],
   "source": []
  },
  {
   "cell_type": "code",
   "execution_count": null,
   "metadata": {},
   "outputs": [],
   "source": []
  },
  {
   "cell_type": "code",
   "execution_count": null,
   "metadata": {},
   "outputs": [],
   "source": []
  },
  {
   "cell_type": "code",
   "execution_count": null,
   "metadata": {},
   "outputs": [],
   "source": []
  },
  {
   "cell_type": "code",
   "execution_count": null,
   "metadata": {},
   "outputs": [],
   "source": []
  },
  {
   "cell_type": "code",
   "execution_count": null,
   "metadata": {},
   "outputs": [],
   "source": []
  },
  {
   "cell_type": "code",
   "execution_count": null,
   "metadata": {},
   "outputs": [],
   "source": []
  },
  {
   "cell_type": "code",
   "execution_count": null,
   "metadata": {},
   "outputs": [],
   "source": []
  },
  {
   "cell_type": "code",
   "execution_count": null,
   "metadata": {},
   "outputs": [],
   "source": []
  }
 ],
 "metadata": {
  "kernelspec": {
   "display_name": "Python [conda env:python3.6]",
   "language": "python",
   "name": "conda-env-python3.6-py"
  },
  "language_info": {
   "codemirror_mode": {
    "name": "ipython",
    "version": 3
   },
   "file_extension": ".py",
   "mimetype": "text/x-python",
   "name": "python",
   "nbconvert_exporter": "python",
   "pygments_lexer": "ipython3",
   "version": "3.6.8"
  }
 },
 "nbformat": 4,
 "nbformat_minor": 2
}
